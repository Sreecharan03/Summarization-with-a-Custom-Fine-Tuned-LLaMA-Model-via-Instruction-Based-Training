{
 "cells": [
  {
   "cell_type": "code",
   "execution_count": null,
   "metadata": {
    "vscode": {
     "languageId": "plaintext"
    }
   },
   "outputs": [],
   "source": [
    "import json\n",
    "import pandas as pd\n",
    "\n",
    "df = pd.read_csv(\"your_dataset.csv\")\n",
    "\n",
    "jsonl_file = \"dataset_databricks.jsonl\"\n",
    "with open(jsonl_file, \"w\", encoding=\"utf-8\") as f:\n",
    "    for _, row in df.iterrows():\n",
    "        json_record = {\n",
    "            \"instruction\": row[\"instruction\"],\n",
    "            \"context\": row[\"context\"],\n",
    "            \"response\": row[\"response\"],\n",
    "            \"category\": row[\"category\"]\n",
    "        }\n",
    "        f.write(json.dumps(json_record, ensure_ascii=False) + \"\\n\")\n",
    "\n",
    "print(f\"Conversion complete! JSONL saved as {jsonl_file}\")\n"
   ]
  }
 ],
 "metadata": {
  "language_info": {
   "name": "python"
  }
 },
 "nbformat": 4,
 "nbformat_minor": 2
}
