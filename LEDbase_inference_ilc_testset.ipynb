{
  "cells": [
    {
      "cell_type": "markdown",
      "metadata": {
        "id": "WhghUX8UF2zW"
      },
      "source": [
        "#### This notebook contains the code for inferencing on [ILC](https://huggingface.co/datasets/d0r1h/ILC) testset using model [led-base-ilc](https://huggingface.co/d0r1h/led-base-ilc)"
      ]
    },
    {
      "cell_type": "markdown",
      "metadata": {
        "id": "wTrnzw3JGPdw"
      },
      "source": [
        "Author: [Pawan Trivedi](https://twitter.com/d0r1h) <br>\n",
        "Date created: 2022/05/06 <br>\n",
        "Last modified: 2022/05/06 <br>\n",
        "Description: Inference on test set for summarization task"
      ]
    },
    {
      "cell_type": "code",
      "execution_count": 14,
      "metadata": {
        "id": "25DCPU17w5GR"
      },
      "outputs": [
        {
          "name": "stdout",
          "output_type": "stream",
          "text": [
            "Note: you may need to restart the kernel to use updated packages.\n",
            "Requirement already satisfied: torch in c:\\users\\asus\\desktop\\llm_final\\legal-summarization\\venv\\lib\\site-packages (2.5.1+cu118)Note: you may need to restart the kernel to use updated packages.\n",
            "\n",
            "Requirement already satisfied: filelock in c:\\users\\asus\\desktop\\llm_final\\legal-summarization\\venv\\lib\\site-packages (from torch) (3.16.1)\n",
            "Requirement already satisfied: typing-extensions>=4.8.0 in c:\\users\\asus\\desktop\\llm_final\\legal-summarization\\venv\\lib\\site-packages (from torch) (4.12.2)\n",
            "Requirement already satisfied: networkx in c:\\users\\asus\\desktop\\llm_final\\legal-summarization\\venv\\lib\\site-packages (from torch) (3.4.2)\n",
            "Requirement already satisfied: jinja2 in c:\\users\\asus\\desktop\\llm_final\\legal-summarization\\venv\\lib\\site-packages (from torch) (3.1.5)\n",
            "Requirement already satisfied: fsspec in c:\\users\\asus\\desktop\\llm_final\\legal-summarization\\venv\\lib\\site-packages (from torch) (2024.9.0)\n",
            "Requirement already satisfied: setuptools in c:\\users\\asus\\desktop\\llm_final\\legal-summarization\\venv\\lib\\site-packages (from torch) (75.6.0)\n",
            "Requirement already satisfied: sympy==1.13.1 in c:\\users\\asus\\desktop\\llm_final\\legal-summarization\\venv\\lib\\site-packages (from torch) (1.13.1)\n",
            "Requirement already satisfied: mpmath<1.4,>=1.1.0 in c:\\users\\asus\\desktop\\llm_final\\legal-summarization\\venv\\lib\\site-packages (from sympy==1.13.1->torch) (1.3.0)\n",
            "Requirement already satisfied: MarkupSafe>=2.0 in c:\\users\\asus\\desktop\\llm_final\\legal-summarization\\venv\\lib\\site-packages (from jinja2->torch) (3.0.2)\n"
          ]
        }
      ],
      "source": [
        "%pip install transformers datasets sentencepiece rouge -qq\n",
        "%pip install torch"
      ]
    },
    {
      "cell_type": "code",
      "execution_count": 15,
      "metadata": {
        "id": "7P9DI3qfw5Ds"
      },
      "outputs": [],
      "source": [
        "import torch\n",
        "import pandas as pd\n",
        "from rouge import Rouge\n",
        "from datasets import load_dataset\n",
        "from transformers import AutoModelForSeq2SeqLM, AutoTokenizer"
      ]
    },
    {
      "cell_type": "code",
      "execution_count": 16,
      "metadata": {
        "id": "m36WBiSew5Bc"
      },
      "outputs": [
        {
          "data": {
            "text/plain": [
              "{'Title': ['S.86(1)(f) of the Electricity Act, is a special provision which overrides the general provisions contained in S.11 of the Arbitration and Conciliation Act 1996: Supreme Court',\n",
              "  'The petitioners were released on bail, as the allegations were not corroborated by the material brought before the police: High court of Patna',\n",
              "  'The allegation being only that the petitioner had tried to commit immoral human trafficking act but could not succeed, the court granted bail: High court of Patna',\n",
              "  'In service jurisprudence, seniority cannot be claimed from the date when the incumbent is yet to be borne in the cadre: Delhi High Court',\n",
              "  'The statute does not mandate all components of the crime to be listed in the FIR: Bombay High Court'],\n",
              " 'Summary': ['Section 86(1)(f) vests a statutory jurisdiction with the State Electricity Commission to adjudicate upon disputes between licensees and generating companies and to refer any dispute for arbitration. therefore, the appointment of arbitrators by the commission overrides the appointment of arbitrators by the High Court. This judgment was passed in the case of Chief General Manager (IPC) M P Power Trading Co. Ltd. &amp; Anr. vs. Narmada Equipments Pvt. Ltd. [C.A.No.1051/2021] by a Bench consisting of Hon’ble Justice Dr. Dhananjaya Y Chandrachud, Hon’ble Justice M R Shah, and Hon’ble Justice Sanjiv Khanna. The present appeal arose from a judgment passed by the MP High Court where it appointed an Arbitrator in the dispute between the parties, in an application filed by the respondent under Section 11(6) of the Arbitration and Conciliation Act 1996. The MP Electricity Board entered into a Power Purchase Agreement (PPA) in 1999 with the respondent and the latter was to establish a mini hydroelectric project on a built and operate basis. However, the PPA was terminated in 2001 by the Board. The respondent initially filed a writ petition challenging the termination of the PPA, wherein the High Court, declined to entertain the petition in view of an arbitration agreement or clause in the PPA. the respondent filed a review petition which was also dismissed by the High Court. the respondent, therefore, issued a notice to the board seeking to resolve the dispute by mutual discussion. Since the respondent did not receive a reply to the notice in 2011, the respondent issued another notice to the Board. The respondent stated that if the Board did not act upon the notice within 30 days of its receipt, it would approach the High Court under Section 11(6) of the 1996 Act. having received no reply, the respondent approached the High Court. The appointed arbitrators refused to initiate the proceeding since their fees had not been paid. The respondents filed an AC under which the Single Judge held that remedies under Section 86(1)(f) of the 2003 Electricity Act and under Section 11(6) of the 1996 Act are independent of each other, and it was open to the High Court to exercise its jurisdiction under Section 11(6). Therefore the Appellant appealed before the Supreme Court. The Supreme Court observed that section 86(1)(f) of the 2003 Act, is a special provision that overrides the general provisions contained in Section 11 of the 1996 Act. Section 86(1)(f) vests a statutory jurisdiction with the State Electricity Commission to adjudicate upon disputes between licensees and generating companies and to refer any dispute for arbitration. Further Section 174 of the Electricity Act, provides an overriding effect to the 1996 Act notwithstanding anything inconsistent contained in any other law for the time being in force or in any instrument having effect by virtue of any law other than the 2003 Act itself. The Supreme Court further held that if there is an inherent lack of jurisdiction, the plea can be taken at any stage and also in collateral proceedings. The Court reiterated a well-established principle that a decree passed by a court without subject matter jurisdiction is a nullity, and that its invalidity could be set up whenever and wherever it is sought to be enforced or relied upon. Such a defect of jurisdiction cannot be cured even by the consent of the parties. Therefore the State Electricity Commission had jurisdiction to appoint the arbitrator since Section 86(1)(f) refers to disputes only between licensees and generating companies. Thus, the order of the High Court appointing an arbitrator under Section 11(6) of the 1996 Act is unsustainable. Accordingly, the appeal was allowed and the order of the High Court was set aside.',\n",
              "  'The petitioner apprehended arrest under Section 147 IPC, “Punishment for rioting”, section 148, “Rioting, armed with a deadly weapon”, section 149, “Every member of unlawful assembly guilty of offense commit\\xadted in the prosecution of a common object”, section 341, “Punishment for wrongful restraint”, section 323, “Punishment for voluntarily causing hurt”, and sections 324, 448, 379, 302, 427, 354 of the Indian Penal Code. This is in connection with Muffasil PS Case No. 114 of 2021 dated 23.02.2021. This judgment was given in the high court of Judicature at Patna by honorable Mr. Justice Ahsanuddin Amanullah on the 6th \\xa0of August 2021 in the case of Munni Devi and others versus the state of Bihar criminal miscellaneous No.37739 of 2021, Mr. Ajay Kumar Represented as the advocate for the petitioner and Mr. Md. Arif represented the state of Bihar as the additional Public Prosecutor, Mr. Nasrul Huda was represented as the advocate for the informant the proceedings of the court were held via video conference. The following are the facts of the case, petitioner no.1 and 2 were accused of assaulting the mother of the informant using an iron rod and stick, and allegations of snatching gold jewelry was also made, petitioner no.3 was accused of assaulting the sister of the informant and all the petitioners along with the family members entered the house of the informant and looted Rs. 27,000 and petitioner no.4 had bitten the sister of the informant, the petitioners further damaged the motorcycle using an iron rod and stones and took three mobile phones from the house of the informant, the father of the informant was killed because of the assault committed by the petitioners. The counsel for the petitioner held that both the families were agnates. according to the FIR, no reason has been stated on why such an event took place, the accused has also filed a case against the informant Muffasil PS Case No. 115 of 2021 on the same day, as the informant along with his family teased and harassed one of the petitioners and when the family were involved and confronted the informant they were attacked, the deceased is the own uncle of the co-accused and the parties are neighbors. The allegations were falsely implicated because there was no injury report for the attack on the mother and regarding the sister, according to the injury report, only one lacerated wound above the left half upper lip 1” x 1/2” and no sign of bite was found by the doctor. All the petitioners are females and have no criminal antecedent they have been implicated with ulterior motive and the death of the father of the informant was caused by the co-accused and not the petitioners. The APP held that the petitioners were accused of assaulting the mother and biting the sister of the informant, counsel for the informant held that the father of the informant died due to the injuries resulting from the assault. However, it is not controverted that the assault on the deceased was done by the co-accused and not the petitioners and also there is no injury report for the attack on the mother of the informant. After considering the facts and circumstances of the case the Patna High Court held that “the allegations against the petitioners, who have been made accused along with their other male members, are not corroborated by the material brought before the police and as the petitioners are ladies without any criminal antecedent, the Court is inclined to allow their prayer for grant of pre-arrest bail.”',\n",
              "  'The petitioner was arrested under Sections 344 IPC, “Wrongful confinement for ten or more days”, section 366, “Kidnapping, abducting or inducing woman to compel her mar\\xadriage”, section 370(3), “Where the offence involves the trafficking of more than one person, it shall be punishable”, section120-B IPC, “Punishment of criminal conspiracy” and 3(a)(b)/4/5(a) of the Immoral Traffic (Prevention) Act, 1956. This petition is in connection with Dinara PS Case No. 9 of 2020 dated 03.01.2020. It is the second attempt for bail by the petitioner which was rejected by the judgment passed Criminal Misc. No. 20913 of 2020. In the high court of Judicature at Patna, this judgement was given by honourable Mr Justice Ahsanuddin Amanullah on the 25th of August 2021 in the case of Jabbar Miyan @ Jabbar Miya and others versus the state of Bihar, criminal miscellaneous No. 19491 of 2021. Mr Md. Mushtaque represented as the advocate for the petitioner, and Mr Ajay Kumar Jha represented the state of Bihar as the additional Public Prosecutor, the proceedings of the court were held via video conference. The following are the facts of the case, the petitioners were accused because he had kept the informant and two other girls in his house and did not allow them to go out. The petitioner runs a dance troupe and he attempted to commit immoral acts and human trafficking where he did not succeed and he had taken the informant’s signature on a blank paper after threatening them and told them the informant has been bought for Rs. 30,000. The counsel representing the petitioner held that according to the FIR the informant stated that she was held for 10 days and she was allowed to go out only by fulfilling the contract agreement which was dancing and singing at various functions and the counsel held that the FIR was filed few days after due to money dispute. The counsel provided a supplementary affidavit as evidence to prove the same. The counsel held that the allegations against the petitioners have been falsely implicated and the informant and other girls had taken the money in order to perform in the dance troupe however slater on the informants neither wanted to perform nor return the money and lodged this false case. The counsel submitted that according to the allegations there was no wrongful act and the girls were kept inside as they belonged from outside the state and they were taken care of properly and even after medical examination there was no wrong found out and the petitioner has been held in custody since the 4th of January 2020. Further, the counsel held that the entire family and their livelihood which they depend on has been damaged due to this false accusation and incarceration, therefore, the court is required to impose conditions to release the petitioner on bail. The additional public prosecutor held that the petitioners have been directly accused by the informants who are the girls that they were confined wrongfully and against their wish and did not allow them to leave and the petitioner also tried to commit human trafficking. The court held that after considering the facts and circumstances of the case the court held that taking into consideration that there is evidence to indicate that there was a professional relationship between the petitioner and the girls which may have gone sour and most importantly, actual physical abuse not being alleged and the allegation being only that the petitioner had tried to commit immoral act but could not succeed, the Court is inclined to grant bail to the petitioner. The court concluded that “the petitioner will be released on bail upon furnishing bail bonds of Rs. 25,000 with two sureties of the like amount each to the satisfaction of the learned SDJM, in PS Case No. 09 of 2020 subject to the conditions under section 438 (2) Cr.P.C. (i) that one of the bailors shall be a close relative of the petitioner, (ii) that the petitioner and the bailors shall execute bond with regard to the good behaviour of the petitioner, and (iii) that the petitioner shall also give an undertaking to the Court that he shall not indulge in any illegal/criminal activity, act in violation of any law/statutory provisions, tamper with the evidence or influence the witnesses. Any violation of the terms and conditions of the bonds or the undertaking shall lead to the cancellation of his bail bonds. The petition stands disposed of in the aforementioned terms.”',\n",
              "  'In matters concerning administrative appointments, the seniority of the transferee shall prevail as opposed to the direct recruits if the seniority predates the vacancy generated for the office of the latter. A bench comprising of Rajiv Sahai, J. and Amit Bansal J. observed in the matter of Yash Rattan v Union of India [W.P.(C) 3576/2021] that seniority shall not be claimed to a public office prior to induction into cadre. The petitioners herein were appointed as Inspectors in the Delhi Commissionerate of the respondents in the year 2016 under the direct recruit quota. The private respondents (who were the petitioners before the CAT) were also direct recruits recruited in the year 2011 in various zones outside Delhi. At their request, they were transferred to the Delhi Zone in the year 2014. The main ground of challenge in the OA No. 2955/2019 was that the petitioners who had joined the department after the joining of the private respondents cannot be placed above them in the seniority list. The CAT set aside the seniority list, subsequent to which the present writ petition has been filed. The counsel contending on behalf of the petitioners relied on the judgment of Union of India v N.R. Parmar ((2012) 13 SCC 340) and opined that the recruitment year would be the year of initiating the recruitment process against a vacancy year. The corresponding counsel pointed out that the judgment in N.R. Parmar stood prospectively overruled in K. Meghachandra Singh &amp;Ors. Vs. Nigam Siro &amp; Ors ((2020) 5 SCC 689). He further added that seniority position was not settled when the K. Meghachandra Singh judgment was delivered, as the private respondents had filed objections against the seniority list of 15th March, 2018 and further had challenged the same before the CAT before the K. Meghachandra Singh judgment was delivered by the Hon’ble Supreme Court. Therefore, it is wrong to state that the seniority position was settled. The Court after a careful reading of the K. Meghachandra judgment followed through that seniority of direct recruits had to be fixed from the date of appointment and not from the date of initiation of the recruitment process, and any person aspiring to a vacant post does not have any vested right to it. The court further observed that “In service jurisprudence, seniority cannot be claimed from the date when the incumbent is yet to be borne in the cadre and therefore, norms on assessment of inter se seniority, suggested in N.R. Parmar case was disapproved; decision in N.R. Parmar case is overruled, however, the decision will not affect the inter se seniority already based on N.R. Parmar case and the same is protected. Decision will apply prospectively.”',\n",
              "  'The facts and information of the suspected offences are not an encyclopedia that is to reveal all the facts and details. It doesn’t need an argument, and cannot be ruled out as a result, that the FIR is just an informant’s note on a recognizable offence. This auspicious judgment was passed by The High Court of Bombay in the Matter of Smt. Jayshri W/o Ratan Uchit\\xa0vs\\xa0The State of Maharashtra and others. [922 CRIMINAL APPLICATION NO. 1606 OF 2019] by Honorable Justice R.V. Ghuge &amp; Justice B. U. Debadwar. The facts of the case are that Ratan Uchit had been mentally and physically fit, committed suicide within just four months and six days, after marriage with the applicant, and two suicide notes, which the deceased Ratan Uchit had left behind, contended that the applicant was often engaged in quarrels with him. He was then fed up and committed suicide. Learned counsel for the applicant vehemently argued that FIR sought to be quashed has been registered for the offence of abetment to commit suicide punishable under section 306 of the I.P.C, and allegation about abetment made in the FIR is very much vague in nature. There are no charges are made under the FIR which suggests that, in accordance with that instigation, the applicant deliberately prompted her husband Ratan Uchit to commit suicide. Learned counsel for the respondents argued that Ratan Uchit had committed suicide only after four months and six days of the marriage performed with the applicant. She is a quarrelsome woman, she had mentally harassed her husband to a great extent by picking up quarrels with him frequently for petty reasons. The court relied on the case of “C.B.I. vs. Tapan Kumar Singh; the Honourable Supreme Court has held in paragraph 22 that “The law does not require the mentioning of all the ingredients of the offence in the FIR. It is only after completion of the investigation that it may be possible to say whether any offence is made out on the basis of the evidence collected by the investigating agency. It is observed that an FIR is not an encyclopedia that must disclose all the facts and details relating to the offence alleged to have been committed. It requires no debate that an FIR is merely a report by the informant about the commission of a cognizable offence and it cannot be ruled out that minute details may not be mentioned.” '],\n",
              " 'Case': ['Reportable IN THE CIVIL APPELLATE JURISDICTION Civil Appeal No 10521 Arising out of SLP(C) No 57517) Chief General ManagerM P Power Trading Co Ltd & Anr Appellant(s) Narmada Equipments Pvt Ltd JUDGMENT Dr Dhananjaya Y Chandrachud J Leave granted. This appeal arises from a judgment and order of a learned Single Judge of the High Court of Madhya Pradesh dated 30 November 2016 where it appointed an Arbitrator in the dispute between the parties in an application1 filed by the respondent under Section 11(6) of the Arbitration and Conciliation Act 19962. The genesis of the matter is from when the Madhya Pradesh Electricity Board3 entered into a Power Purchase Agreement4 on 20 May 1999 with the respondent. “AC No 15” “1996 Act” 2 Under the PPA the respondent was to establish a mini hydro electric project on a built and operate basis. However the PPA was terminated on 27 September 2001 by the Board. The respondent initially filed a writ petition5 challenging the termination of the PPA. The High Court by its order dated 4 November 2009 declined to entertain the petition in view of an arbitration agreement contained in Clause 12.36 of the PPA. Thereafter the respondent filed a review petition7which was dismissed by the High Court by an order dated 10 December 2009. As a consequence of the orders dated 4 November 2009 and 10 December 2009 on 28 December 2009 the respondent issued a notice to the Board under Clause 12.1 of the PPA seeking to resolve the dispute by mutual discussion. Since the respondent did not receive a reply to the notice dated 28 December 2009 from the Board on 30 May 2011 the respondent issued another notice to the Board invoking arbitration under Clause 12.3 of the PPA. In the notice the respondent stated that if the Board did not act upon the notice within 30 days of its receipt it would approach the High Court under Section 11(6) of the 1996 Act. Having received no reply from the Board an application8 was filed under Section 11(6) of the 1996 Act by the respondent seeking the appointment of an arbitrator. The High Court by its order dated 21 January 2014 recorded that the respondent “WP No 26402” “12.3 Arbitration: a) If dispute cannot be salted within Thirtyby section 12.1 andto Conciliation is not elected by the Parties pursuant to Section 12.2 of if a Parties so requests in accordance with Section 12.2 the Dispute shall in dally be settled by an Umpire to be appointed by two arbitrators one to be appointed by the Board and other by the Company Provisions of the Indian Arbitration and Conciliation Act 1996 9or any enactment that replaces the said Act) shall apply in such arbitrator. The arbitration proceedings shall be held at head Quarter of the Board i.e. at Jabalpur. b) The award rendered shall apportion the costs of the arbitration. c) The award rendered in any arbitration commended here under shall be final conclusive and binding upon the Parties and award may be entered in any Court having jurisdiction as darned under article 15.1.” “Review Petition No 7109” “AC No 711” 3 and the appellant had agreed to nominate their arbitrators and observed that the two arbitrators would proceed to appoint a third arbitrator in accordance with the procedure in Clause 12.3(a) of the PPA. The nominated Arbitrators fixed their first meeting on 7 May 2014 when both parties appeared and the Arbitrators’ fee was fixed. However the Arbitrators by a letter dated 7 July 2014 highlighted their inability to proceed with the arbitration proceedings on the ground that their fees had not been paid. Thereafter the respondent filed AC No 15 on 8 December 2014 seeking the appointment of an arbitrator under Section 11(6) of the 1996 Act. This application was opposed by the appellant on the ground that in view of the provisions of Section 86(1)(f) of the Electricity Act 20039 it was the State Electricity Commission which was vested with the exclusive jurisdiction to adjudicate upon disputes between licensees and generating companies. By the impugned judgment and order dated 30 November 2016 the Single Judge of the High Court allowed the application filed by the respondent under Section 11(6) of the 1996 Act. The Single Judge held that the remedies under Section 86(1)(f) of the 2003 Act and under Section 11(6) of the 1996 Act are independent of each other and it was open to the High Court to exercise its jurisdiction under Section 11(6). The appellant now comes before this Court in appeal. The submission of the appellant which has been urged before this Court by Mr Varun Chopra learned counsel is that the view which has been taken by the High Court is contrary to the law which has been laid down by a two Judge Bench of this Court in Gujarat Urja Vikas Nigam Limited v Essar Power Limited10. “2003 Act” 2008) 4 SCC 755 hereinafter referred to as “Gujarat Urja Vikas Nigam Limited” 8 Controverting the submissions Mr Sanjay K Agrawal learned counsel appearing on behalf of the respondent however urged that the decision in Gujarat Urja Vikas Nigam Limited would not apply to the facts of the present case since the PPA was executed on 20 May 1999 and the termination by the Board was on 27 September 2001 both of these events have taken place before the enforcement of the 2003 Act on 10 June 2003. It was further urged that the appellant did not raise its objection stemming from Section 86(1)(f) of the 2003 Act when the High Court appointed Arbitrators by the consent of both parties in its order dated21 January 2014 in AC No 711 and also before the Arbitrators so appointed and hence it cannot be raised at this stage. In the present case the notice for the initiation of arbitration under Clause 12.3 of the PPA was issued by the respondent on 30 May 2011. The commencement of the arbitral proceedings by the invocation of the arbitration agreement would therefore relate to 30 May 2011 when the notice invoking Clause 12.3 was issued. Hence the fact that the PPA and the notice of termination predate the 2003 Act would not constitute material circumstances. Section 2111 of the 1996 Act specifies that unless otherwise agreed by the parties the arbitral proceedings in respect of a particular dispute would commence on the date on which a request for that dispute to be referred to arbitration is received by the respondent. Hence there can be no manner of doubt that 30 May 2011 would be the material date since it is on this date that the notice invoking Clause 12.3 was issued by the respondent to the appellant. “21. Commencement of arbitral proceedings.—Unless otherwise agreed by the parties the arbitral proceedings in respect of a particular dispute commence on the date on which a request for that dispute to be referred to arbitration is received by the respondent.” The first issue which is raised in this appeal is governed by Gujarat Urja Vikas Nigam Limitedof the 2003 Act. The Gujarat High Court thereafter appointed an Arbitrator in an application under Section 11(6) of the 1996 Act which was impugned before this Court. Speaking for the two Judge bench Justice Markandey Katju settled the position of law in paragraphs 26 27 and 28 of the judgment which are extracted below for convenience of reference: “26. It may be noted that Section 86(1)(f) of the Act of 2003 is a special provision for adjudication of disputes between the licensee and the generating companies. Such disputes can be adjudicated upon either by the State Commission or the person or persons to whom it is referred for arbitration. In our opinion the word “and” in Section 86(1)(f) between the words “generating companies” and “to refer any dispute for arbitration” means “or”. It is well settled that sometimes “and” can mean “or” and sometimes “or” can mean “and” of the Electricity Act 2003 the word “and” between the words “generating companies” and the words “refer any dispute” means “or” otherwise it will lead to an anomalous situation because obviously the State Commission cannot both decide a dispute itself and also refer it to some arbitrator. Hence the word “and” in Section 86(1)(f) means “or”. 28. Section 86(1)(f) is a special provision and hence will override the general provision in Section 11 of the Arbitration and Conciliation Act 1996 for arbitration of licensee and generating disputes between 6 companies. It is well settled that the special law overrides the general law. Hence in our opinion Section 11 of the Arbitration and Conciliation Act 1996 has no adjudicate arbitrate disputes between licensees and generating companies and only Section 86(1)(f) shall apply in such a situation.” This position has subsequently also been approved by two three Judge benches of this Court in Hindustan Zinc Limited v Ajmer Vidyut Vitran Nigam Limited12 and NHAI v Sayedabad Tea Company Limited13. From the above judgment it is evident that this Court has held that Section 86(1)(f) of the 2003 Act is a special provision which overrides the general provisions contained in Section 11 of the 1996 Act. Section 86(1)(f) vests a statutory jurisdiction with the State Electricity Commission to adjudicate upon disputes between licensees and generating companies and to refer any dispute for arbitration. The “and” between “generating companies” and “to refer any dispute for arbitration” is to be read as an “or” since the State Electricity Commission cannot obviously resolve the dispute itself and also refer it to arbitration. Section 86(1)(f) is extracted “86.Functions of State Commission.— The State Commission shall discharge the following functions namely: adjudicate upon the disputes between the licensees and generating companies and to refer any dispute for arbitration ” 2019) 17 SCC 82 hereinafter referred to as “Hindustan Zinc Limited” 2020) 15 SCC 161 7 Section 174 of the 2003 Act provides overriding effect to the 2003 Act notwithstanding anything inconsistent contained in any other law for the time being in force or in any instrument having effect by virtue of any law other than the 2003Act itself. Section 174 provides thus: “174. Act to have overriding effect. — Save as otherwise provided in Section 173 the provisions of this Act shall have effect notwithstanding anything therewith contained in any other law for the time being in force or in any instrument having effect by virtue of any law other than this Act.” We refer now to the second argument raised on behalf of the respondent that the appellant cannot raise an objection relying on Section 86(1)(f) of the 2003 Act in the second application filed by it under Section 11(6) of the 1996 Act when it had not raised the same objection in the first application under Section 11(6) of the 1996 Act or before the Arbitrators so appointed. It is pertinent to note that this argument was rejected by the Single Judge of the High Court in the impugned judgment and order dated 30 November 2016 in the following terms” “9. I will be failing in my duty if the basic objection raised by Shri Manoj Dubey about maintainability of this application is not dealt with. Merely because in earlier round of litigation the objection of maintainability was not taken it will not preclude the other side to raise such objection if it goes to the root of the matter. This is trite law that jurisdiction cannot be assumed by consent of the parties. If a statute does not provide jurisdiction to entertain an application petition the petition cannot be entertained for any reason whatsoever. Thus I am not inclined to hold that since for the reason that in the earlier round of litigation i.e. A.C. No.76 2011 parties reached to a consensus for appointment of Arbitrators this application is also maintainable. I deem it proper to examine whether because of operation of Section 174 of the Act of 2003 the present application under the Act of 1996 is not maintainable.” 8 A similar issue was raised before a three Judge bench of this Court in Hindustan Zinc Limited where an arbitrator was appointed by the State Electricity Commission under Section 86(1)(f) of the 2003 Act with the consent of the parties. Subsequently the arbitral award was challenged under Section 34 of the 1996 Act before a Commercial Court and the Commercial Court’s decision was challenged in an appeal under Section 37 of the 1996 Act where it was held that the State Electricity Commission had no jurisdiction to appoint the arbitrator since Section 86(1)(f) refers to disputes only between licensees and generating companies and not licensees and consumers. When the matter reached this Court the contention was that the objection to jurisdiction could not have been raised in a proceeding under Section 37 of the 1996 Act once the parties had consented to arbitration earlier. Speaking for the Court Justice Rohinton F Nariman held that if there is inherent lack of jurisdiction the plea can be taken at any stage and also in collateral proceedings. He highlighted the well established principle that a decree passed by a court without subject matter jurisdiction is a nullity and that its invalidity could be set up whenever and wherever it is sought to be enforced or relied upon. Such a defect of jurisdiction cannot be cured even by the consent of the parties. The above dictum would apply to the present case. In the above view of the matter the order of the High Court appointing an arbitrator under Section 11(6) of the 1996 Act is unsustainable. We accordingly allow the appeal and set aside the impugned judgment and order of the High Court dated 30 November 2016 in AC No 15. However this will not come in the way of the respondent in taking recourse to such remedies as are available in law. However we have expressed no opinion either on the merits or the 9 objections of the appellant which when urged would be considered by the appropriate forum. There shall be no order as to costs. Pending application if any stands disposed of. ….. …...…...…....... ........J. Dr Dhananjaya Y Chandrachud] M R Shah] Sanjiv Khanna] New Delhi March 23 2021 S ',\n",
              "  'IN THE HIGH COURT OF JUDICATURE AT PATNA CRIMINAL MISCELLANEOUS No.377321 Arising Out of PS. Case No. 114 Year 2021 Thana BEGUSARAI MUFFASIL District 1. Munni Devi Female aged about 39 years wife of Mr. Subodh Singh Rinku Devi Female aged about 37 years wife of Mr. Santosh Singh 3. Komal Kumari Female aged about 18 years daughter of Mr. Santosh Chhoti Kumari Female aged about 14 years daughter of Mr. Subodh Singh All resident of Village Mohanpur P.S. Muffasil District Begusarai ... Petitioner s The State of Bihar ... Opposite Party s For the Petitioner s For the State For the Informant Mr. Ajay Kumar Thakur Advocate Mr. Md. Arif APP Mr. Nasrul Huda Khan Advocate CORAM: HONOURABLE MR. JUSTICE AHSANUDDIN AMANULLAH ORAL JUDGMENT Date : 06 08 2021 The matter has been heard via video conferencing. 2. The case has been taken up out of turn on the basis of motion slip filed by learned counsel for the petitioner on 26.07.2021 which was allowed 3. Heard Mr. Ajay Kumar Thakur learned counsel for the petitioners Mr. Md. Arif learned Additional Public Prosecutorfor the State and Mr. Nasrul Huda Khan learned counsel for the informant. 4. The petitioners apprehend arrest in connection with Muffasil PS Case No. 1121 dated 23.02.2021 instituted Patna High Court CR. MISC. No.377321 dt.06 08 2021 under Sections 147 148 149 341 323 324 448 379 302 427 354 of the Indian Penal Code 5. The allegation against the petitioners no. 1 and 2 is that they assaulted the mother of the informant with iron rod and stick and also snatched the gold chain and ear ring whereas the petitioner no. 3 is said to have assaulted the sister of the informant with stick and thereafter it is alleged that all the accused including other male members of the family of the petitioner had entered into the house and looted Rs. 27 000 and further against the petitioner no. 4 is that she had also bitten the sister of the informant and all the accused are said to have damaged the motorcycle belonging to the father of the informant by iron rod and stones and had also taken away three mobile phones from the house. It is alleged that the father of the informant was killed due to assault by the accused. 6. Learned counsel for the petitioners submitted that both the families were agnates and they have been falsely implicated. It was submitted that no reason has been assigned in the FIR for the occurrence whereas accused Santosh Singh of the present case has lodged Muffasil PS Case No. 1121 on the same day for the same occurrence where it is alleged that the informant of the present case along with his brothers had Patna High Court CR. MISC. No.377321 dt.06 08 2021 teased and harassed one of the petitioners and when the family members of the petitioners confronted the informant they were abused and assaulted along with other family members. Learned counsel submitted that the deceased is the own uncle of co accused Santosh Singh Subodh Singh and Randhir Kumar and both the sides are neighbours. Learned counsel submitted that the case is false also for the reason that there is no injury report of the mother of the informant and as far as the sister of the informant is concerned the injury report shows only one lacerated wound above left half upper lip 1” x 1 2” and no sign of bite was found by the doctor. Thus it was submitted that the injury itself appears to be superficial. It was submitted that the entire family including the petitioners who are female members having clean antecedent have been implicated with ulterior motive and as far as the death of the father of the informant is concerned the assault on him is attributed to the other male co accused and not the petitioners. It was submitted that another aspect of the matter is that in the FIR itself it is alleged that when other male members of the petitioners who are also co accused were assaulting the father of the informant the police had arrived and thus if the same is true then there could not have been any further assault on the father of the informant and Patna High Court CR. MISC. No.377321 dt.06 08 2021 the accused would also have been arrested there itself on 22.02.2021 but neither any case was lodged nor arrest made on 22.02.2021 and only after the case was instituted on 23.02.2021 the male members of the petitioners who are accused in the present case were arrested. It was submitted that the informant side had blocked the state highway and indulged in brick batting with the police for which Muffasil PS Case No. 1121 dated 23.02.2021 under Sections 147 148 341 323 504 353 332 of the Indian Penal Code was also instituted in which the informant of the present case and others are accused 7. Learned APP submitted that the petitioners are alleged to have assaulted the mother and bitten the sister of the 8. Learned counsel for the informant submitted that the father of the informant has died due to assault. However it was not controverted that the assault on the father of the informant is attributed to the male co accused in the case and not the petitioners and also that there is no injury report with regard to the mother of the informant as also that only a lacerated wound on the upper lip of the sister of the informant has been found by the doctor as noted in the injury report. 9. Having considered the facts and circumstances of Patna High Court CR. MISC. No.377321 dt.06 08 2021 the case and submissions of learned counsel for the parties in the tentative view of the Court the allegations against the petitioners who have been made accused along with their other male members are not corroborated by the material brought before the police inasmuch as there is no injury report with regard to the mother of the informant and further that the sister of the informant has suffered only a lacerated wound above the left half upper lip and the petitioners are ladies without any criminal antecedent the Court is inclined to allow their prayer for grant of pre arrest bail 10. Accordingly in the event of arrest or surrender before the Court below within six weeks from today the petitioners be released on bail upon furnishing bail bonds of Rs 25 000 each with two sureties of the like amount each to the satisfaction of the learned Chief Judicial Magistrate Begusarai in Muffasil PS Case No. 1121 subject to the conditions laid down in Section 438(2) of the Code of Criminal Procedure 1973 and furtherthat one of the bailors shall be a close relative of the petitioners that the petitioners and the bailors shall execute bond and give undertaking with regard to good behaviour of the petitioners andthat the petitioners shall cooperate with the Court and Patna High Court CR. MISC. No.377321 dt.06 08 2021 the police prosecution Any violation of the terms and conditions of the bonds or undertaking or failure to cooperate shall lead to cancellation of their bail bonds. 11. It shall also be open for the prosecution to bring any violation of the foregoing conditions of bail by the petitioners to the notice of the Court concerned which shall take immediate action on the same after giving opportunity of hearing to the petitioner(s 12. The petition stands disposed of in the (Ahsanuddin Amanullah J J. Alam ',\n",
              "  'IN THE HIGH COURT OF JUDICATURE AT PATNA CRIMINAL MISCELLANEOUS No. 194921 Arising Out of PS. Case No. 9 Year 2020 Thana DINARA District Rohtas Jabbar Miyan @ Jabbar Miya @ Abdul Jabar @ Abdul Jabar Alam aged about 51 years Gender Male Son of Ashik Miyan Resident of Village Karanj PS Dinara District Rohtasfor the 3. The petitioner is in custody in connection with Dinara PS Case No. 9 of 2020 dated 03.01.2020 instituted under Sections 344 366 370(3) 120 B of the Indian Penal Code and 3(a)(b) 4 5(a) of the Immoral Traffic Act 4. This is the second attempt for bail by the petitioner as earlier such prayer was rejected by judgment dated 06.07.2020 passed in Cr. Misc. No. 209120 Patna High Court CR. MISC. No.194921 dt.25 08 2021 5. Learned counsel for the petitioner submitted that as per the FIR itself the informant has stated that she was made to believe that after 10 days she would be allowed to go upon fulfilling the contract agreement relating to dancing and singing at various functions. He submitted that a few days after that only FIR has been lodged due to dispute relating to money. Thus learned counsel submitted that the matter be adjourned for him to bring on record the details with regard to the programmes held during the period in which three girls including the informant had 6. On the aforesaid stand of learned counsel for the petitioner on 04.08.2021 time was granted for filing 7. Learned counsel for the petitioner submitted that he has filed supplementary affidavit in which the following has been stated at paragraphs no. 2 to 5 “2. That petitioner is running Dance Party from many years ago for the purpose of marriage and other functions for public and name of Dance Party is ‘JAI CHANCHALA THEATER SANGEET COMPANY’ the new marriage season was to start from December to June Hence there are four among them three are dancers and one guardian are inter into agreement between Petitioner on 21.12.2019 In agreement it is stated that the dancers will remain from 24.12.2019 to 30.06.2020 and every night shall be paid Rs. 2500 each and total Rs. 7500 for three Patna High Court CR. MISC. No.194921 dt.25 08 2021 dancers to pay on daily basis and also to pay Rs 7500 2000= 5500 each As advance Rs. 30000 has been taken by Sarjun Ram for three dancers and all four persons three dancers and one guardian Sarjun Ram signed upon agreement and also stated in agreement that ‘LAGAN IJJAT KA MAMLA HAI PROPRITOR JABBAR KHAN KO BEYIJJAT NAHI HONE DEGI’ copy of the agreement is Annexure 4 of Bail 3. That the Petitioner Dance company is still going on in which other dancers are present 4. That it is submitted that as per agreement Annexure 4 to Bail Application) And in view of the agreement Petitioner and his sonbooked many sattas in hope to be performed by the informant and her members but only after ten days of agreement they not only refused to perform in program but also denied to return the taken advance of Petitioner and also planted the Petitioner in false 5. That it is submitted that due to refusal of the informant and her members Petitioner have to gain heavy loss in sudden arrangements of other dancers sattas i.e. 22.01.2020 in different dates of 25.02.2020 04.05.2020 12.05.2020 19.05.2020 09.12.2020 19.05.2020 02.05.2021 05.06.2021 20.05.2021 21.05.2021 26.05.2021 and 28.05.2021 Copies of the sattas are prepared in two sets one is handed over to the satta holder and one of the same is kept in the office of Petitioner.” 8. Copies of the said documents referred have also been annexed to the supplementary affidavit 9. The allegation against the petitioner is that he had kept the informant and two other girls in his house not allowing them to go out and it is further alleged that they had been hired by the petitioner who runs a dance troupe and that he had also Patna High Court CR. MISC. No.194921 dt.25 08 2021 made attempt to commit immoral act but could not succeed and further that he had taken their signature on blank paper by putting them under threat and had told them that he had bought them for Rs. 30 000 10. Learned counsel for the petitioner submitted that the allegation is false and the informant and other girls had taken money to perform in his dance troupe and because they neither wanted to perform nor return the money this false case has been instituted. Learned counsel submitted that as per the allegation itself no wrong act was committed and at best only the informant and the girls were being pressurized. It was submitted that the girls because they belong from outside the State were being kept at the house of the petitioner where they were also being properly taken care of with regard to boarding and lodging. Learned counsel further submitted that the medical examination does not disclose any wrong doing and the petitioner is in custody since 04.01.2020 11. Learned APP submitted that there is direct allegation against the petitioner of keeping the girls against their wish and not allowing them to leave and also of trying to commit immoral Patna High Court CR. MISC. No.194921 dt.25 08 2021 12. Learned counsel for the petitioner submitted that his entire family and livelihood has been ruined because of the false case and incarceration and that the Court may impose strict conditions for his release on bail 13. Having considered the facts and circumstances of the case and submissions of learned counsel for the parties taking into consideration that there is material to indicate that there was a professional relationship between the parties which may have gone sour and most importantly actual physical abuse not being alleged and the allegation being only that the petitioner had tried to commit immoral act but could not succeed the Court is inclined to grant bail to the petitioner 14. Accordingly let the petitioner be released on bail upon furnishing bail bonds of Rs. 25 000 that one of the bailors shall be a close relative of the petitioner that the petitioner and the bailors shall execute bond with regard to good behaviour of the petitioner and that the petitioner shall also give an undertaking to the Court that he shall not indulge in any illegal criminal activity act in violation of any law statutory Patna High Court CR. MISC. No.194921 dt.25 08 2021 provisions tamper with the evidence or influence the witnesses Any violation of the terms and conditions of the bonds or the undertaking shall lead to cancellation of his bail bonds. The petitioner shall cooperate in the case and be present before the Court on each and every date. Failure to cooperate or being absent on two consecutive dates without sufficient cause shall also lead to cancellation of his bail bonds 15. It shall also be open for the prosecution to bring any violation of the foregoing conditions of bail by the petitioner to the notice of the Court concerned which shall take immediate action on the same after giving opportunity of hearing to the 16. The petition stands disposed of in the (Ahsanuddin Amanullah J',\n",
              "  ' IN THE HIGH COURT OF DELHI AT NEW DELHI Judgment Reserved on : 18th March 2021 Judgment Delivered on : 9th April 2021 W.P.(C) 3576 2021 YASH RATTAN & ORS Petitioners Through: Ms. Maninder Acharya Senior Advocate with Mr. Ayush Anand Mr. Shubhendu Anand Mr. Mrinal Elker Mr. Viplav Acharya & Mr. Shikhar Kishore Advocates. UNION OF INDIAN AND ORS. Respondents Through: Mr. Gaurang Kanth CGSC with Mr. Amit Dogra G.P. Ms. Biji Rajesh and Mr. Shreesh Chadha Advocates for UOI. Mr. Harpreet Singh with Mr. Arunesh Sharma & Ms. Suhani Mathur Advocates for R 4 R 31. HON BLE MR. JUSTICE RAJIV SAHAI ENDLAW HON BLE MR. JUSTICE AMIT BANSAL AMIT BANSAL J. C.M. No.10817 2021Allowed subject to all just exceptions and as per extant Rules. The application stands disposed of. W.P.(C) 3576 2021 & C.M. No.10818 2021The present writ petition impugns the order dated 13th October 2020 passed by Central Administrative Tribunalin OA No.2955 2019. By W.P.(C) 3576 2021 the said impugned order OA filed by respondents no.4 to 31 herein was allowed and the seniority list dated 15th March 2018 which was the subject matter of challenge before the CAT was set aside. The present petition has been filed by the petitioners who were the respondents before the CAT. The brief facts giving rise to the present petition are set out The petitioners herein were appointed as Inspectors in the Delhi Commissionerate of the respondents in the year 2016 under the direct recruit quota. The private respondentswere also direct recruits recruited in the year 2011 in various zones outside Delhi. At their request they were transferred to the Delhi Zone in the year 2014. On 31.07.2014 there was a substantial re structuring in the department resulting in steep increase in the number of posts of Inspectors in Delhi Zone. On account of the increase in number of vacancies the private respondents took a transfer to Delhi Commissionerate from their parent cadre and were placed at the bottom of the seniority list. The petitioners who were appointed on direct recruitment basis against the vacancies for the year of 2014 joined cadre only in the year 2016. On 15th March 2018 the respondents came out with a seniority list of Inspectors in which the respondents herein were placed below the petitioners. The seniority list was prepared on the basis of OM No. 20011 1 2012 Estt.(D) dated 4th March 2014 which in turn had been prepared in terms of the ratio of the Hon’ble Supreme court in Union of India & Ors. Vs. N.R. Parmar & W.P.(C) 3576 2021 Ors. 13 SCC 340. The private respondents made various representations against the said seniority list. The representations not having been considered favourably the private respondents filed OA No.1251 2019 challenging the seniority list of Inspectors as on 31st March 2015 issued on 15th March 2018. On 5th August 2019 the official respondents amended the RRs with regard to promotion of Inspectors to the post of Superintendents. On 16th September 2019 the private respondents withdrew OA No.1251 2019 with liberty to file fresh OA. On 30th September 2019 fresh OA No.2955 2019 was filed by the private respondents challenging the seniority list dated 15th March 2018 from which the present petition arises. The main ground of challenge in the said OA was that the petitioners who had joined the department after the joining of the private respondents cannot be placed above them in the seniority list. Reliance was placed on the decision of the Hon’ble Supreme Court in K. Meghachandra Singh &Ors. Vs. Ningam Siro & Ors. 5 SCC 689 in which the earlier judgment of N.R. Parmar was overruled. The said OA was contested by both the official respondents as well as the petitioners herein by filing counter affidavits. The said OA 2955 2019 was allowed by the Tribunal vide the impugned order and the seniority list dated 15th March 2018 to the extent it placed petitioners who were appointed and joined Delhi Commissionerate subsequent to the date of the transfer of the private respondents was set aside. It was held by the CAT that the petitioners herein who were appointed in the year 2016 cannot be placed above the private respondents who were appointed in the year 2011 and came on transfer to Delhi Zone in W.P.(C) 3576 2021 the year 2014 the judgment of the Hon’ble Supreme Court in N.R. Parmar would apply only in the context of fixation of inter se seniority between the promotees on one hand and direct recruits on the other hand on transfer to Delhi Zone the private respondents would be placed in the seniority after directly recruited Inspectors of the year 2014 on the principle that whoever comes on transfer has to take the last place in the seniority in the zone to which he comes on transfer since the petitioners as well as the private respondents were direct recruits the judgment in N.R. Parmarwould have no impact on them there was no basis or justification to place the petitioners who were appointed in the year 2016 above the private respondents in the Delhi zone andthe judgment of the Hon’ble Supreme Court in N.R. Parmar has been overruled by the Supreme Court judgment in the case of K. Meghachandra Singhpromotees of the vacancies of 2014 were appointed on 1st April 2014 cadre re structuring took place in July 2014 which resulted W.P.(C) 3576 2021 in creation of additional vacancies out of which 459 vacancies were available for direct recruit quota and 229 for promotion quota at that point of time 185 applications for inter Commissionerate transfer were pending from different zones to Delhi Zone it was decided that 200 out of 459 vacancies of direct recruits should be filled up through transfer and remaining 259 vacancies were to be filled up through direct recruitment quota the process for recruitment of 259 Inspectors on direct recruitment basis started on 2nd September 2014 on 7th December 2014 240 more vacancies were made available to be filled through direct recruitment quota and 120 through promotion quota the petitioners qualified the SSC CGL) Examination 2014 against the vacancies for 2014 and were appointed as Inspectors on direct recruitment basis in the Delhi zone in 2016 on 15th March 2018 the respondents finalized the seniority list of Inspectors upto 31st March 2015 in which the name of the private respondents was below the petitioners. 10. The learned Senior Counsel on behalf of the petitioners has strenuously argued that the impugned order of the CAT is erroneous as it fails to consider that while preparing seniority list the recruitment year of the candidates is relevant and not the year in which they join the cadre. The seniority list impugned before CAT was prepared strictly in terms of OM dated 4th March 2014 which was based on N.R. Parmar judgmentRecruitment Year would be the year of initiating the recruitment process against a vacancy year W.P.(C) 3576 2021 Initiation of recruitment process against a vacancy year would be the date of sending of requisition for filling up of vacancies to the recruiting agency in the case of direct recruits in the case of promotees the date on which a proposal UPSC Chairman DPC for convening of DPC to fill up the vacancies through promotion would be the relevant date.” respects in all It was further submitted that on the date the said seniority list was prepared N.R. Parmar judgment of the Supreme Court held the field and therefore the seniority list was correctly prepared on the basis of the said judgment. The said judgment was overruled by a three Judge Bench of the Hon’ble Supreme court in K. Meghachandra Singh judgment supra) which was delivered on 13th November 2019 however the said overruling was prospective and therefore seniority already decided in terms of N.R. Parmarwould be protected. Reliance is also placed on the transfer order dated 20th April 2013 in respect of the private respondents wherein it is specifically noted that transferee officers will be placed below all officers appointed regularly to the post grade in terms of para 3.5 of the DoP&T’s OM dated 3.7.1986. The said Clause 3.5 of the OM dated 3.7.1986 is set out below: “3.5 In cases in which transfers are not strictly in public interest the transferred officers will be placed below all officers appointed regularly to the grade on the date of It was further contended by the Learned Senior Counsel for the petitioners that if the directions of the CAT are implemented it would also disturb the inter se seniority between the direct recruits and the promotees. In the impugned seniority list direct recruits and the promotees for the W.P.(C) 3576 2021 vacancies have been interspersed and the promotees have not challenged the same. Therefore in terms of the impugned order of the CAT even the said interspersing between the promotees and the direct recruits would go and the petitioners would become junior to the promotees. 13. The official respondents represented by Mr. Gaurang Kanth Advocate have supported the case of the petitioners. Mr. Kanth has placed reliance on para 3.3 of the OM dated 3.7.1986 and defends the OM dated 4th March 2014 in terms of which the official respondents have correctly drawn the seniority list. 14. Per contra Mr. Harpreet Singh learned counsel for the private respondents submits that the petitioners have wrongly stated that the private respondents are transferees. In reality the said transferees are also direct recruits of the year 2011 and therefore have a right to be interspersed with the promotees of 2015. He further submits that the private respondents were placed at the bottom of the promotees and the direct recruits of 2014. Prior to the cadre re structuring the number of vacancies available for Inspectors in direct recruitment quota was only 12. Only after cadre re structuring in October 2014 the vacancies became 561. So cadre re structuring benefitted petitioners also inasmuch as posts for direct recruits increased. Requisitions to fill in direct recruitment vacancy were sent to SSC only after they had joined Delhi Zone. It was contended that the N.R. Parmar judgment was not applicable because the said judgment dealt with seniority between direct recruits and promotees whereas the controversy in the present case relates to seniority between two different categories of direct recruits inasmuch as the private respondents are also direct recruits W.P.(C) 3576 2021 and this fact has been noted in para 6 of the impugned order. He further submitted that when the private respondents joined the cadre petitioners were not even borne in the cadre. He submits that para 3.3 of the OM dated 3.7.1986 is not relevant as same applies only when an employee is appointed by transfer in accordance with provisions of RRs providing for such transfer in the event of non availability of suitable candidate by direct recruitment or promotion which is not the case here. He further states that the seniority position was not settled when the K. Meghachandra Singh judgment was delivered as the private respondents had filed objections against the seniority list of 15th March 2018 and further had challenged the same before the CAT before the K. Meghachandra Singh judgmentwas delivered by the Hon’ble Supreme Court. Therefore it is wrong to state that the seniority position was settled. In rejoinder it has been submitted on behalf of the petitioners thatprivate respondents may be direct recruits but not for the purposes of Delhi Commissionerate promotees and direct recruits sink and sail together and therefore cannot be separated in the seniority list the petitioners who were borne elsewhere have to come after the promotees and the direct recruits and cannot be sandwiched between them the judgment in K. Meghachandra Singhprotected the inter se seniority based on N.R. Parmar(v) when the petitioners applied for transfer there were no posts available under the Delhi Commissionerate and CAT did not examine the aspect of promotees being benefitted at the expense of the W.P.(C) 3576 2021 16. We have examined the rival contentions. It is a matter of fact that the seniority position in the present case was not finally settled when the judgment in the case of K. Meghachandra Singhwas delivered by the Hon’ble Supreme Court on 13th November 2019. The impugned seniority list was issued on 15th March 2018 and immediately thereafter various representations were filed on behalf of the private respondents against the said seniority list. When no response was received on the said representations the private respondents filed the OA before the CAT challenging the said seniority list from which the present petition arises. In fact OA was also filed before the judgment in K. Meghachandra Singh judgmentwas delivered. Therefore it is incorrect on the part of the petitioners to say that the seniority position was settled and therefore the same has to be protected in terms of the judgment in K. Meghachandra Singh judgment had to be applied. The following paragraphs from the judgment in K. Meghachandra Singhmay be referred to: “37. When we carefully read N.R.Parmar it appears to us that the referred OMswere not property construed in the judgment. Contrary to the eventual finding the said two OMs had made it clear that seniority of the direct recruits be declared only from the date of appointment and not from the date of But surprisingly the judgment while referring to the illustration given in the OM in fact overlooks the effect of the said illustration. According to us the illustration extracted in N.R. Parmar itself makes it clear that the vacancies which initiation of recruitment process. W.P.(C) 3576 2021 were intended for direct recruitment in a particular year 1986) which were filled in the next year could be taken into consideration only in the subsequent year’s seniority list but not in the seniority list of 1986. In fact this was indicated in the two OMs dated 7 2 1986 and 3 7 1986 and that is why the Government issued the subsequent OM on 3 3 2008 by way of clarification of the two earlier 38. At this stage we must also emphasise that the Court in N.R. Parmar need not have observed that the selected candidate cannot be blamed for administrative delay and the gap between the initiation of process and appointment. Such observation is fallacious inasmuch as none can be identified as being a selected candidate on the date when the process of recruitment had commenced. On that day a body of persons aspiring to be appointed to the vacancy intended for direct recruits was not in existence. The persons who might respond to an advertisement cannot have any service related rights not to talk of right to have their seniority counted from the date of the advertisement. In other words only on completion of the process the applicant morphs into a selected candidate and therefore unnecessary observation was made in N.R. Parmar to the effect that the selected candidate cannot be blamed for the administrative delay. In the same context we may usefully refer to the ratio in Shankarsan Dash v. Union of India where it was held that even upon empanelment an appointee does not acquire any right. 39. The judgment in N.R. Parmar relating to the Central Government employees cannot in our opinion automatically apply to the Manipur State Police Officers governed by the MPS Rules 1965. We also feel that N.R. Parmar had incorrectly distinguished the long standing seniority determination principles propounded in inter alia Jagdish Ch. Patnaik Suraj Parkash Gupta v. State of J&K and Pawan Pratap Singh v. Reevan Singh. These three judgments and several others with like enunciation W.P.(C) 3576 2021 that under service on the law for determination of seniority makes it jurisprudence abundantly clear seniority cannot be claimed from a date when the incumbent is yet to be borne in the cadre. In our considered opinion the law on the issue is correctly declared in Jagdish Ch. Patnaik and consequently we disapprove the norms on assessment of inter se seniority suggested in N.R. Parmar. Accordingly the decision in N.R. Parmar is overruled. However it is made clear that this decision will not affect the inter se seniority already based on N.R. Parmar and the same is protected. This decision will apply prospectively except where seniority is to be fixed under the relevant rules from the date of vacancy the date of advertisement.” 17. From a reading of the above passages the dicta of the Hon’ble Supreme Court that emerges can be summarized as below: OMs dated 07.02.1986 and 03.07.1986 were not properly construed in the N.R. Parmarjudgment. The said OMs made it clear that seniority of direct recruits had to be fixed from the date of appointment and not from the date of initiation of recruitment process Persons aspiring to be appointed to a vacant post do not have any vested right. Only upon completion of the selection process a candidate becomes a selected candidate and therefore the finding in N.R. Parmarthat the selected candidate cannot be blamed for administrative delay was not correct iii) N.R. Parmar has incorrectly distinguished longstanding seniority determination principles propounded in the following cases: W.P.(C) 3576 2021 a) Jagdish Ch. Patnaik Vs. State of Orissa 4 SCC 456 b) Suraj Prakash Gupta Vs. State of J&K 7 SCC 561 and c) Pawan Pratap Singh Vs. Reevan Singh 3 SCC 267 In service jurisprudence seniority cannot be claimed from the date when the incumbent is yet to be borne in the cadre and therefore norms on assessment of inter se seniority suggested in N.R. Parmar supra) case were disapproved Decision in N.R. Parmar case is overruled however the decision will not affect the inter se seniority already based on N.R. Parmar case and the same is protected. Decision will apply 18. Therefore in our view CAT has correctly applied the dicta in K. Meghachandra Singhcase in the present case and has proceeded to quash the seniority list to the extent it placed the petitioners above the private respondents. The fact that the CAT decision would impact the inter se seniority between the promotees and direct recruits is not the subject matter of the present petition and therefore need not be examined. It is also an admitted position that in the present case requisitions for the appointment of the petitioners were sent to SSC the recruiting authority on 11th February 2015 after the private respondents had already joined the Delhi Commissionerate. Therefore even in terms of OM dated 4th March 2014 the petitioners cannot be placed above the private respondents. W.P.(C) 3576 2021 APRIL 09 2021 19. Therefore we see no merit in the present petition. AMIT BANSAL J. RAJIV SAHAI ENDLAW J. W.P.(C) 3576 2021 ',\n",
              "  ' on 06 04 2021 on 07 04 1606.19APPLN.odt1IN THE HIGH COURT OF JUDICATURE AT BOMBAYBENCH AT AURANGABAD922 CRIMINAL APPLICATION NO. 1606 OF 2019 Smt. Jayshri W o Ratan Uchit @ Jayshri W o subhash Bagul Age : 32 years Occ : Household R o Shivajinagar Karmad Tq. Kannad Dist. Aurangabad At present residing at JadhavwadiAurangabad ..APPLICANT VERSUS 1.The State of MaharashtraThrough Police Inspector KannadPolice Station Tq. Kannad Dist. Aurangabad. 2.Shankar Pandurang UchitAge : 39 years Occ : Agri. R o Shivajinagar Kannad Tq. Kannad Dist. Aurangabad. ..RESPONDENTS...Mr.Suvidh S. Kulkarni Advocate for theapplicant. Mr.S.J. Salgare APP for respondent no.1 State. Mr.Yogesh Bolkar Advocate for respondent no.2. … CORAM : RAVINDRA V.GHUGE AND B.U.DEBADWAR JJ. RESERVED ON : 24th March 2021 PRONOUNCED ON : 06th April 2021JUDGMENTfor quashing FIR. 2.The applicant prays to quash the FIRNo.0032 2019 registered on the basis of thereport lodged by Shankar Pandurang Uchit on07.02.2019 under section 306 of the IndianPenal CodeatKannad City Police Station Dist.Aurangabad. 3.Heard Mr.Suvidh Kulkarni thelearned Advocate for the applicant Mr.YogeshBolkar the learned Advocate for respondentNo.2 and Mr.S.J. Salgare the learnedAdditional Public Prosecutor for respondentno.1 State. 4.The allegations averments made inthe FIR in short are that deceased RatanPandurang Uchit was elder brother of firstinformant Shankar Pandurang Uchit. He wasagriculturist by profession. His first wifewas a Cancer patient. She had committedsuicide getting depressed with Cancer ofwhich she was suffering. Deceased Ratan hastwo children born from the first wife. Afterthe death of first wife Ratan performedsecond marriage with applicant on 11.09.2018 as per Hindu rites and customs prevailing in on 06 04 2021 on 07 04 1606.19APPLN.odt3their community at Mayur Park area ofAurangabad. The first husband of theapplicant had died prior to her marriage withdeceased Ratan Uchit. After marriage theapplicant used to pick up quarrel withdeceased Ratan Uchit frequently on pettyreasons. Ratan Uchit used to inform about thesame to his younger brother i.e. firstinformant Shankar Uchit. On 07.02.2019 atabout 8.30 a.m. when Shankar Uchit firstinformant had been to his field situatedwithin the limits of village Makranpur so asto bring milk at that time his cousinbrother Pandit Uchit informed him that RatanUchit has committed suicide by hanginghimself to the Neem Tree standing on thedyke of their field. Upon knowing the same Shankar Uchit rushed to the aforesaid spotand saw his brother Ratan Uchit hanging tothe tree. In pursuance of the informationreceived the Police reached there removedthe dead body of Ratan Uchit from the NeemTree to which he was hanging and preparedthe inquest panchanama. During the course ofdrawing inquest panchanama along with a CellPhone one suicide note was found in thepocket of pant worn by deceased Ratan. Fromthe contents of that suicide note Shankar on 06 04 2021 on 07 04 1606.19APPLN.odt4Uchit first informant has realized that hisbrother Ratan Uchit has committed suicide bygetting fed up with quarrels raised by theapplicant constantly. After performingfuneral and last rituals on the dead body ofRatan Uchit one more suicide note leftbehind by him was found kept near a SpeedMeter of motorcycle bearing no.MH 20 DL 1726.The recitals of the said suicide note wereidentical with the earlier suicide note foundin the pocket of pant of Ratan Uchit.According to Shankar Uchit first informant his brother Ratan Uchit has committed suicideby getting fed up with the quarrels beingraised by the applicant frequently for pettyreasons. Therefore the applicant isresponsible for the suicide death of hisbrother Ratan Uchit. 5.Mr.Suvidh Kulkarni the learnedAdvocate while taking us through the FIR annexed to the application vehemently arguedthat only after four months and six days ofmarriage with applicant Ratan Uchit hascommitted suicide. FIR sought to be quashedhas been registered for the offence ofabetment to commit suicide punishable undersection 306 of the I.P.C. The allegations on 06 04 2021 on 07 04 1606.19APPLN.odt5about abetment made in the FIR are very muchvague in nature. Details of alleged quarrelsdo not find place in the FIR In order tobring home guilt under section 306 of theI.P.C. it is necessary to prove theabetment. Section 107 of the I.P.C. defines`Abetment’. On the basis of the allegationsmade in FIR it cannot be gathered thateither the applicant instigated orintentionally aided deceased Ratan Uchit forcommission of suicide. Allegations made inFIR that the applicant used to pick up pettyquarrels with deceased Ratan Uchitfrequently in any case do not satisfy thedefinition of abetment. When there are noallegations made in the FIR from which it canbe gathered that the applicant intentionallyinstigated her husband Ratan Uchit to commitsuicide and in pursuance of the saidinstigation Ratan Uchit her husbandcommitted suicide there is no propriety indragging the applicant to face the trial which would ultimately result into hisacquittal. 6.In support of his submissions Mr.Kulkarni learned Advocate has placedreliance on the judgment of Coordinate Bench on 06 04 2021 on 07 04 1606.19APPLN.odt6of this Court delivered in the case of Dilipand Ors. Vs. State of Maharashtra and Ors.{2016 All MR4328}.7.Per contra Mr.Yogesh Bolkar thelearned Advocate strenuously argued thatRatan Uchit had committed suicide only afterfour months and six days of the marriageperformed with the applicant. The applicantis a quarrelsome woman. In a short span offour months and few days of the marriage shehad harassed her husband Ratan Uchitmentally to a great extent by picking upquarrels with him frequently for pettyreasons. The applicant has not seriouslydisputed genuineness of suicide notes leftbehind by Ratan Uchit. Both the suicide notesare identical. The suicide notes and recitalsof the FIR lodged by the real younger brotherof Ratan Uchit show that harassment by theapplicant was to such an extent that deceasedRatan Uchit was left with no otheralternative but to end his life. Nothing onrecord indicating that Ratan Uchit wassuffering from mental disease. The applicantalso does not say so. Ratan Uchit wasmentally and physically fit would not havecommitted suicide unless harassment on 06 04 2021 on 07 04 1606.19APPLN.odt7ill treatment meted out by the deceased wasof such a gravity which led him to commitsuicide. According to Mr.Yogesh Bolkar learned Advocate the recitals of FIR are prima facie quite sufficient to make out thecase under section 306 of the I.P.C. againstthe applicant. Therefore the application forquashing FIR is liable to be dismissed. 8.Mr.S.J. Salgare the learnedAdditional Public Prosecutor for respondentno.1 State submitted that having regard tothe allegations made in the FIR and recitalsof both the suicide notes left behind byRatan Uchit it cannot be said that the FIRis wholly imaginary. According to Mr.Salgare the investigation is almost completed andthus accordingly prayed for dismissal ofapplication. 9.Practically in all matters underSection 482 of the Code of Criminalprocedure 1973 the accused approaches theCourt on the ground that the FirstInformation Reporton the face of it does not disclose ingredients that wouldconstitute a cognizable offence. Thus theinherent power of the High Court in it’s on 06 04 2021 on 07 04 1606.19APPLN.odt8jurisdiction under Section 482 is invokedfor seeking the quashing of the FIR. 10.In C.B.I. Vs. Tapan Kumar Singh6 SCC 175 : AIR 2003 SC 4140 theHonourable supreme court has held inparagraph 22 that “The law does not requirethe mentioning of all the ingredients of theoffence in the FIR. It is only aftercompletion of the investigation that it maybe possible to say whether any offence ismade out on the basis of the evidencecollected by the investigating agency.” It isobserved that an FIR is not an encyclopediawhich must disclose all the facts and detailsrelating to the offence alleged to have beencommitted. It requires no debate that an FIRis merely a report by the informant about thecommission of a cognizable offence and itcannot be ruled out that minute details maynot be mentioned. It cannot be ignored thatan FIR pertains to an offence which isalleged to have been committed and theinformant in a disturbed state of mind andshaken on account of a serious offencecommitted approaches a police station forrecording an FIR. on 06 04 2021 on 07 04 1606.19APPLN.odt911.In the State of Punjab Vs. DharamSingh 621 : 1987 Supp. SCC89 the Honourable Supreme Court held thatthe High Court had erred in quashing the FIRby going beyond the averments to consdierthe merits of the case even before theinvestigating agency has embarked upon thelegal exercise of collecting evidence.12.In Kurukshetra University Vs. Stateof Haryana4 SCC 451 : AIR 1977 SCC2229( a Three Judges bench) the HonourableSupreme Court has observed thus: “It surprises in the extremethat the High Court thought thatin the exercise of its inherentpowers under Section 482 CriminalProcedure Code it could quash andFIR. The Police had not evencommenced investigation into thecomplaint filed by the warden ofthe University and no proceedingat all was pending in any Court inpursuance of the FIR. It ought tobe realized that inherent powersdo not confer any arbitraryjurisdiction on the High Court toact according to its whim orcaprice.” 13.In Geeta Mehrotra and another Vs. on 06 04 2021 on 07 04 1606.19APPLN.odt10State of uttar Pradesh and another 10SCC 741 the Honourable Supreme Court hasheld that in the absence of any specificallegation and an FIR prima facie indicating no case against the co accused the Court would have the power to quash anFIR.14.In Parbatbhai Aahir alias ParbatbhaiBhimsinhbhai Karmur and others vs. State ofGujarat and another 9 SCC 641 theHonourable supreme Court has laid down theguiding principles to be considered indetermining whether an FIR could be quashed as under: “(1) Section 482 CrPC preserves theinherent powers of the High Courtto prevent an abuse of the processof any court or to secure the endsof justice. The provision does notconfer new powers. It onlyrecognises and preserves powerswhich inhere in the High Court.The invocation of thejurisdiction of the High Court toquash a first information report ora criminal proceeding on the groundthat a settlement has been arrivedat between the offender and thevictim is not the same as theinvocation of jursidiction for thepurpose of compounding an offence. on 06 04 2021 on 07 04 1606.19APPLN.odt11While compounding an offence thepower of the court is governed bythe provisions of Section 320 CrPC.The power to quash under Section482 is attracted even if theoffence is non compoundable.In forming an opinionwhether a criminal proceeding orcomplaint should be quashed inexercise of its jurisdiction underSection 482 the High Court mustevaluate whether the ends ofjustice would justify the exerciseof the inherent power.While the inherent power ofthe High Court has a wide ambit andplenitude it has to be exercised(i) to secure the ends of justice orto prevent an abuse of theprocess of any court.In the exercise of thepower under Section 482 and whiledealing with a plea that thedispute has been settled the HighCourt must have due regard to thenature and gravity of the offence.Heinous and serious offencesinvolving mental depravity oroffences such as murder rape and on 06 04 2021 on 07 04 1606.19APPLN.odt12dacoity cannot appropriately bequashed though the victim or thefamily of the victim have settledthe dispute. Such offences are truly speaking not private innature but have a serious impactupon society. The decision tocontinue with the trial in suchcases is founded on the overridingelement of public interest inpunishing persons for seriousoffences.In such a case the HighCourt may quash the criminalproceeding if in view of thecompromise between the disputants the possibility of a conviction isremote and the continuation of acriminal proceeding would causeoppression and prejudice andThere is yet an exceptionto the principle set out in on 06 04 2021 on 07 04 1606.19APPLN.odt13Propositionsandabove Economic offences involving thefinancial and economic well being ofthe State have implications whichlie beyond the domain of a meredispute between private disputants.The High Court would be justified indeclining to quash where theoffender is involved in an activityakin to a financial or economicfraud or misdemeanour. Theconsequences of the act complainedof upon the financial or economicsystem will weigh in the balance.” 15.In the light of the aforesaidsubmissions made by the learned Advocates ofboth the sides and the crystalised positionof law for invocation of powers under section482 of the Cr.P.C. we have carefully gonethrough the FIR. It is pertinent to note thatthe marriage between Ratan Uchit and theapplicant was the second marriage for both ofthem. It is evident from the record thatRatan Uchit has died due to hanging on thetree only after four months and six days ofthe marriage with the applicant. Theapplicant has not seriously disputed thenature of death of her husband Ratan. Thedispute is only about abetment. It is settledposition of law that intention is theconcomitant of the abetment. Merely for the on 06 04 2021 on 07 04 1606.19APPLN.odt14reason that details of quarrels alleged tohave been raised by the applicant with herhusband Ratan Uchit have not been given inthe FIR an inference cannot be drawn thatthe alleged quarrels had no nexus with thesuicide death of Ratan Uchit. The allegationsabout quarrels being picked up by theapplicant with deceased Ratan Uchitfrequently are supported by two suicidenotes left behind by deceased Ratan Uchit.There is nothing on record showing that RatanUchit was suffering from any mental diseaseor chronic ailment. When Ratan was mentallyand physically fit he had no reason tocommit suicide unless harassment meted outby the applicant was of such nature andextent which would compel him to commitsuicide. 16.In Dilip and otherstheCoordinate Bench of this Court afterconsidering the various judgments of theHon’ble Supreme Court has held as under : “unless there is clear mens rea tocommit an offence or active act ordirect act which led the deceased tocommit suicide seeing no option or the on 06 04 2021 on 07 04 1606.19APPLN.odt15act intending to push the deceased intosuch a position the trial against theaccused under Section 306 of the IndianPenal Code in our considered view would be an abuse of process of law.”17.In Dilip and othersaJudicial Officer had committed suicide on histransfer to Taluka place from the districthead quarters by his superior JudicialOfficer. Except the grievance of transfer the deceased Judicial officer had no othergrievance against his superior JudicialOfficer. In suicide note Junior JudicialOfficer who committed suicide has expressedanguish against the Senior Judicial Officer.Having regard to all these facts theCoordinate Bench of this Court had quashedthe FIR. 18.The facts of the case at hand arealtogether different. Ratan Uchit wasmentally and physically fit person hascommitted suicide only within four months andsix days after the marriage with theapplicant and it is alleged in the FIR andtwo suicide notes left behind by deceasedRatan Uchit that the applicant used to pick on 06 04 2021 on 07 04 1606.19APPLN.odt16up quarrels with him frequently. Therefore he was fed up and committed suicide. In viewof these material allegations made in the FIRand two suicide notes left behind by deceasedRatan Uchit at this juncture inferencecannot be drawn that the applicant did notinstigate her husband Ratan Uchit to commitsuicide or there was no intention behind thequarrels which she used to pick up with herhusband frequently. Only after trial thismaterial aspect can be decided. Therefore itis not proper to quash the FIR gettinginfluenced with the submission that theapplicant had no intention to drive herhusband Ratan Uchit to commit suicide. 19.In view of above we are notinclined to quash the FIR. Accordingly theapplication is rejected.(RAVINDRA V. GHUGE J.)SGA ']}"
            ]
          },
          "execution_count": 16,
          "metadata": {},
          "output_type": "execute_result"
        }
      ],
      "source": [
        "rouge = Rouge()\n",
        "dataset = load_dataset(\"d0r1h/ILC\", split='test')\n",
        "dataset[:5]"
      ]
    },
    {
      "cell_type": "code",
      "execution_count": 17,
      "metadata": {
        "id": "9vFWcPE2w4_Y"
      },
      "outputs": [],
      "source": [
        "CasesText = dataset['Case']\n",
        "GoldSummary = dataset['Summary']"
      ]
    },
    {
      "cell_type": "code",
      "execution_count": 18,
      "metadata": {
        "colab": {
          "base_uri": "https://localhost:8080/"
        },
        "id": "2wSLjatVw49k",
        "outputId": "24117373-c6e7-4fe2-b131-cb532e6f1345"
      },
      "outputs": [
        {
          "data": {
            "text/plain": [
              "(1015, 1015)"
            ]
          },
          "execution_count": 18,
          "metadata": {},
          "output_type": "execute_result"
        }
      ],
      "source": [
        "len(CasesText), len(GoldSummary)"
      ]
    },
    {
      "cell_type": "code",
      "execution_count": 21,
      "metadata": {
        "id": "p2p-CSZFw47G"
      },
      "outputs": [
        {
          "name": "stdout",
          "output_type": "stream",
          "text": [
            "cpu\n"
          ]
        }
      ],
      "source": [
        "device = \"cuda\" if torch.cuda.is_available() else \"cpu\"\n",
        "\n",
        "print(device)"
      ]
    },
    {
      "cell_type": "code",
      "execution_count": 12,
      "metadata": {
        "id": "QAlmz76hw447"
      },
      "outputs": [],
      "source": [
        "def summarize(model, tokenizer, Cases):\n",
        "\n",
        "  SystemSummaries = []\n",
        "  for i, case in enumerate(Cases):\n",
        "\n",
        "      input_ids = tokenizer(case, return_tensors=\"pt\").input_ids.to(device)\n",
        "      global_attention_mask = torch.zeros_like(input_ids)\n",
        "      global_attention_mask[:, 0] = 1\n",
        "      sequences = model.generate(input_ids, global_attention_mask=global_attention_mask)\n",
        "      Summary = tokenizer.batch_decode(sequences, skip_special_tokens=True)\n",
        "\n",
        "      SystemSummaries.append(Summary)\n",
        "      print(i)\n",
        "\n",
        "  return SystemSummaries"
      ]
    },
    {
      "cell_type": "code",
      "execution_count": 13,
      "metadata": {
        "id": "BZWSz2J9w421"
      },
      "outputs": [
        {
          "name": "stderr",
          "output_type": "stream",
          "text": [
            "c:\\Users\\ASUS\\Desktop\\LLM_FINAL\\legal-summarization\\venv\\Lib\\site-packages\\huggingface_hub\\file_download.py:140: UserWarning: `huggingface_hub` cache-system uses symlinks by default to efficiently store duplicated files but your machine does not support them in C:\\Users\\ASUS\\.cache\\huggingface\\hub\\models--d0r1h--led-base-ilc. Caching files will still work but in a degraded version that might require more space on your disk. This warning can be disabled by setting the `HF_HUB_DISABLE_SYMLINKS_WARNING` environment variable. For more details, see https://huggingface.co/docs/huggingface_hub/how-to-cache#limitations.\n",
            "To support symlinks on Windows, you either need to activate Developer Mode or to run Python as an administrator. In order to activate developer mode, see this article: https://docs.microsoft.com/en-us/windows/apps/get-started/enable-your-device-for-development\n",
            "  warnings.warn(message)\n"
          ]
        }
      ],
      "source": [
        "checkpoint = \"d0r1h/led-base-ilc\"\n",
        "\n",
        "tokenizer_led = AutoTokenizer.from_pretrained(checkpoint)\n",
        "model_led = AutoModelForSeq2SeqLM.from_pretrained(checkpoint).to(device)"
      ]
    },
    {
      "cell_type": "code",
      "execution_count": 14,
      "metadata": {
        "colab": {
          "base_uri": "https://localhost:8080/"
        },
        "id": "bpiZ8YBZw400",
        "outputId": "709ed473-47d9-4c37-86db-dd62200cd4b5"
      },
      "outputs": [
        {
          "name": "stderr",
          "output_type": "stream",
          "text": [
            "Input ids are automatically padded from 2988 to 3072 to be a multiple of `config.attention_window`: 1024\n"
          ]
        },
        {
          "ename": "KeyboardInterrupt",
          "evalue": "",
          "output_type": "error",
          "traceback": [
            "\u001b[1;31m---------------------------------------------------------------------------\u001b[0m",
            "\u001b[1;31mKeyboardInterrupt\u001b[0m                         Traceback (most recent call last)",
            "Cell \u001b[1;32mIn[14], line 1\u001b[0m\n\u001b[1;32m----> 1\u001b[0m SystemSummary \u001b[38;5;241m=\u001b[39m \u001b[43msummarize\u001b[49m\u001b[43m(\u001b[49m\u001b[43mmodel_led\u001b[49m\u001b[43m,\u001b[49m\u001b[43m \u001b[49m\u001b[43mtokenizer_led\u001b[49m\u001b[43m,\u001b[49m\u001b[43m \u001b[49m\u001b[43mCasesText\u001b[49m\u001b[43m)\u001b[49m\n",
            "Cell \u001b[1;32mIn[12], line 9\u001b[0m, in \u001b[0;36msummarize\u001b[1;34m(model, tokenizer, Cases)\u001b[0m\n\u001b[0;32m      7\u001b[0m global_attention_mask \u001b[38;5;241m=\u001b[39m torch\u001b[38;5;241m.\u001b[39mzeros_like(input_ids)\n\u001b[0;32m      8\u001b[0m global_attention_mask[:, \u001b[38;5;241m0\u001b[39m] \u001b[38;5;241m=\u001b[39m \u001b[38;5;241m1\u001b[39m\n\u001b[1;32m----> 9\u001b[0m sequences \u001b[38;5;241m=\u001b[39m \u001b[43mmodel\u001b[49m\u001b[38;5;241;43m.\u001b[39;49m\u001b[43mgenerate\u001b[49m\u001b[43m(\u001b[49m\u001b[43minput_ids\u001b[49m\u001b[43m,\u001b[49m\u001b[43m \u001b[49m\u001b[43mglobal_attention_mask\u001b[49m\u001b[38;5;241;43m=\u001b[39;49m\u001b[43mglobal_attention_mask\u001b[49m\u001b[43m)\u001b[49m\n\u001b[0;32m     10\u001b[0m Summary \u001b[38;5;241m=\u001b[39m tokenizer\u001b[38;5;241m.\u001b[39mbatch_decode(sequences, skip_special_tokens\u001b[38;5;241m=\u001b[39m\u001b[38;5;28;01mTrue\u001b[39;00m)\n\u001b[0;32m     12\u001b[0m SystemSummaries\u001b[38;5;241m.\u001b[39mappend(Summary)\n",
            "File \u001b[1;32mc:\\Users\\ASUS\\Desktop\\LLM_FINAL\\legal-summarization\\venv\\Lib\\site-packages\\torch\\utils\\_contextlib.py:116\u001b[0m, in \u001b[0;36mcontext_decorator.<locals>.decorate_context\u001b[1;34m(*args, **kwargs)\u001b[0m\n\u001b[0;32m    113\u001b[0m \u001b[38;5;129m@functools\u001b[39m\u001b[38;5;241m.\u001b[39mwraps(func)\n\u001b[0;32m    114\u001b[0m \u001b[38;5;28;01mdef\u001b[39;00m \u001b[38;5;21mdecorate_context\u001b[39m(\u001b[38;5;241m*\u001b[39margs, \u001b[38;5;241m*\u001b[39m\u001b[38;5;241m*\u001b[39mkwargs):\n\u001b[0;32m    115\u001b[0m     \u001b[38;5;28;01mwith\u001b[39;00m ctx_factory():\n\u001b[1;32m--> 116\u001b[0m         \u001b[38;5;28;01mreturn\u001b[39;00m \u001b[43mfunc\u001b[49m\u001b[43m(\u001b[49m\u001b[38;5;241;43m*\u001b[39;49m\u001b[43margs\u001b[49m\u001b[43m,\u001b[49m\u001b[43m \u001b[49m\u001b[38;5;241;43m*\u001b[39;49m\u001b[38;5;241;43m*\u001b[39;49m\u001b[43mkwargs\u001b[49m\u001b[43m)\u001b[49m\n",
            "File \u001b[1;32mc:\\Users\\ASUS\\Desktop\\LLM_FINAL\\legal-summarization\\venv\\Lib\\site-packages\\transformers\\generation\\utils.py:2283\u001b[0m, in \u001b[0;36mGenerationMixin.generate\u001b[1;34m(self, inputs, generation_config, logits_processor, stopping_criteria, prefix_allowed_tokens_fn, synced_gpus, assistant_model, streamer, negative_prompt_ids, negative_prompt_attention_mask, **kwargs)\u001b[0m\n\u001b[0;32m   2275\u001b[0m     input_ids, model_kwargs \u001b[38;5;241m=\u001b[39m \u001b[38;5;28mself\u001b[39m\u001b[38;5;241m.\u001b[39m_expand_inputs_for_generation(\n\u001b[0;32m   2276\u001b[0m         input_ids\u001b[38;5;241m=\u001b[39minput_ids,\n\u001b[0;32m   2277\u001b[0m         expand_size\u001b[38;5;241m=\u001b[39mgeneration_config\u001b[38;5;241m.\u001b[39mnum_beams,\n\u001b[0;32m   2278\u001b[0m         is_encoder_decoder\u001b[38;5;241m=\u001b[39m\u001b[38;5;28mself\u001b[39m\u001b[38;5;241m.\u001b[39mconfig\u001b[38;5;241m.\u001b[39mis_encoder_decoder,\n\u001b[0;32m   2279\u001b[0m         \u001b[38;5;241m*\u001b[39m\u001b[38;5;241m*\u001b[39mmodel_kwargs,\n\u001b[0;32m   2280\u001b[0m     )\n\u001b[0;32m   2282\u001b[0m     \u001b[38;5;66;03m# 13. run beam sample\u001b[39;00m\n\u001b[1;32m-> 2283\u001b[0m     result \u001b[38;5;241m=\u001b[39m \u001b[38;5;28;43mself\u001b[39;49m\u001b[38;5;241;43m.\u001b[39;49m\u001b[43m_beam_search\u001b[49m\u001b[43m(\u001b[49m\n\u001b[0;32m   2284\u001b[0m \u001b[43m        \u001b[49m\u001b[43minput_ids\u001b[49m\u001b[43m,\u001b[49m\n\u001b[0;32m   2285\u001b[0m \u001b[43m        \u001b[49m\u001b[43mbeam_scorer\u001b[49m\u001b[43m,\u001b[49m\n\u001b[0;32m   2286\u001b[0m \u001b[43m        \u001b[49m\u001b[43mlogits_processor\u001b[49m\u001b[38;5;241;43m=\u001b[39;49m\u001b[43mprepared_logits_processor\u001b[49m\u001b[43m,\u001b[49m\n\u001b[0;32m   2287\u001b[0m \u001b[43m        \u001b[49m\u001b[43mstopping_criteria\u001b[49m\u001b[38;5;241;43m=\u001b[39;49m\u001b[43mprepared_stopping_criteria\u001b[49m\u001b[43m,\u001b[49m\n\u001b[0;32m   2288\u001b[0m \u001b[43m        \u001b[49m\u001b[43mgeneration_config\u001b[49m\u001b[38;5;241;43m=\u001b[39;49m\u001b[43mgeneration_config\u001b[49m\u001b[43m,\u001b[49m\n\u001b[0;32m   2289\u001b[0m \u001b[43m        \u001b[49m\u001b[43msynced_gpus\u001b[49m\u001b[38;5;241;43m=\u001b[39;49m\u001b[43msynced_gpus\u001b[49m\u001b[43m,\u001b[49m\n\u001b[0;32m   2290\u001b[0m \u001b[43m        \u001b[49m\u001b[38;5;241;43m*\u001b[39;49m\u001b[38;5;241;43m*\u001b[39;49m\u001b[43mmodel_kwargs\u001b[49m\u001b[43m,\u001b[49m\n\u001b[0;32m   2291\u001b[0m \u001b[43m    \u001b[49m\u001b[43m)\u001b[49m\n\u001b[0;32m   2293\u001b[0m \u001b[38;5;28;01melif\u001b[39;00m generation_mode \u001b[38;5;241m==\u001b[39m GenerationMode\u001b[38;5;241m.\u001b[39mGROUP_BEAM_SEARCH:\n\u001b[0;32m   2294\u001b[0m     \u001b[38;5;66;03m# 11. prepare beam search scorer\u001b[39;00m\n\u001b[0;32m   2295\u001b[0m     beam_scorer \u001b[38;5;241m=\u001b[39m BeamSearchScorer(\n\u001b[0;32m   2296\u001b[0m         batch_size\u001b[38;5;241m=\u001b[39mbatch_size,\n\u001b[0;32m   2297\u001b[0m         num_beams\u001b[38;5;241m=\u001b[39mgeneration_config\u001b[38;5;241m.\u001b[39mnum_beams,\n\u001b[1;32m   (...)\u001b[0m\n\u001b[0;32m   2303\u001b[0m         max_length\u001b[38;5;241m=\u001b[39mgeneration_config\u001b[38;5;241m.\u001b[39mmax_length,\n\u001b[0;32m   2304\u001b[0m     )\n",
            "File \u001b[1;32mc:\\Users\\ASUS\\Desktop\\LLM_FINAL\\legal-summarization\\venv\\Lib\\site-packages\\transformers\\generation\\utils.py:3503\u001b[0m, in \u001b[0;36mGenerationMixin._beam_search\u001b[1;34m(self, input_ids, beam_scorer, logits_processor, stopping_criteria, generation_config, synced_gpus, **model_kwargs)\u001b[0m\n\u001b[0;32m   3500\u001b[0m     outputs \u001b[38;5;241m=\u001b[39m stack_model_outputs(outputs_per_sub_batch, \u001b[38;5;28mself\u001b[39m\u001b[38;5;241m.\u001b[39mconfig\u001b[38;5;241m.\u001b[39mget_text_config())\n\u001b[0;32m   3502\u001b[0m \u001b[38;5;28;01melse\u001b[39;00m:  \u001b[38;5;66;03m# Unchanged original behavior\u001b[39;00m\n\u001b[1;32m-> 3503\u001b[0m     outputs \u001b[38;5;241m=\u001b[39m \u001b[38;5;28;43mself\u001b[39;49m\u001b[43m(\u001b[49m\u001b[38;5;241;43m*\u001b[39;49m\u001b[38;5;241;43m*\u001b[39;49m\u001b[43mmodel_inputs\u001b[49m\u001b[43m,\u001b[49m\u001b[43m \u001b[49m\u001b[43mreturn_dict\u001b[49m\u001b[38;5;241;43m=\u001b[39;49m\u001b[38;5;28;43;01mTrue\u001b[39;49;00m\u001b[43m)\u001b[49m\n\u001b[0;32m   3505\u001b[0m \u001b[38;5;66;03m# synced_gpus: don't waste resources running the code we don't need; kwargs must be updated before skipping\u001b[39;00m\n\u001b[0;32m   3506\u001b[0m model_kwargs \u001b[38;5;241m=\u001b[39m \u001b[38;5;28mself\u001b[39m\u001b[38;5;241m.\u001b[39m_update_model_kwargs_for_generation(\n\u001b[0;32m   3507\u001b[0m     outputs,\n\u001b[0;32m   3508\u001b[0m     model_kwargs,\n\u001b[0;32m   3509\u001b[0m     is_encoder_decoder\u001b[38;5;241m=\u001b[39m\u001b[38;5;28mself\u001b[39m\u001b[38;5;241m.\u001b[39mconfig\u001b[38;5;241m.\u001b[39mis_encoder_decoder,\n\u001b[0;32m   3510\u001b[0m )\n",
            "File \u001b[1;32mc:\\Users\\ASUS\\Desktop\\LLM_FINAL\\legal-summarization\\venv\\Lib\\site-packages\\torch\\nn\\modules\\module.py:1736\u001b[0m, in \u001b[0;36mModule._wrapped_call_impl\u001b[1;34m(self, *args, **kwargs)\u001b[0m\n\u001b[0;32m   1734\u001b[0m     \u001b[38;5;28;01mreturn\u001b[39;00m \u001b[38;5;28mself\u001b[39m\u001b[38;5;241m.\u001b[39m_compiled_call_impl(\u001b[38;5;241m*\u001b[39margs, \u001b[38;5;241m*\u001b[39m\u001b[38;5;241m*\u001b[39mkwargs)  \u001b[38;5;66;03m# type: ignore[misc]\u001b[39;00m\n\u001b[0;32m   1735\u001b[0m \u001b[38;5;28;01melse\u001b[39;00m:\n\u001b[1;32m-> 1736\u001b[0m     \u001b[38;5;28;01mreturn\u001b[39;00m \u001b[38;5;28;43mself\u001b[39;49m\u001b[38;5;241;43m.\u001b[39;49m\u001b[43m_call_impl\u001b[49m\u001b[43m(\u001b[49m\u001b[38;5;241;43m*\u001b[39;49m\u001b[43margs\u001b[49m\u001b[43m,\u001b[49m\u001b[43m \u001b[49m\u001b[38;5;241;43m*\u001b[39;49m\u001b[38;5;241;43m*\u001b[39;49m\u001b[43mkwargs\u001b[49m\u001b[43m)\u001b[49m\n",
            "File \u001b[1;32mc:\\Users\\ASUS\\Desktop\\LLM_FINAL\\legal-summarization\\venv\\Lib\\site-packages\\torch\\nn\\modules\\module.py:1747\u001b[0m, in \u001b[0;36mModule._call_impl\u001b[1;34m(self, *args, **kwargs)\u001b[0m\n\u001b[0;32m   1742\u001b[0m \u001b[38;5;66;03m# If we don't have any hooks, we want to skip the rest of the logic in\u001b[39;00m\n\u001b[0;32m   1743\u001b[0m \u001b[38;5;66;03m# this function, and just call forward.\u001b[39;00m\n\u001b[0;32m   1744\u001b[0m \u001b[38;5;28;01mif\u001b[39;00m \u001b[38;5;129;01mnot\u001b[39;00m (\u001b[38;5;28mself\u001b[39m\u001b[38;5;241m.\u001b[39m_backward_hooks \u001b[38;5;129;01mor\u001b[39;00m \u001b[38;5;28mself\u001b[39m\u001b[38;5;241m.\u001b[39m_backward_pre_hooks \u001b[38;5;129;01mor\u001b[39;00m \u001b[38;5;28mself\u001b[39m\u001b[38;5;241m.\u001b[39m_forward_hooks \u001b[38;5;129;01mor\u001b[39;00m \u001b[38;5;28mself\u001b[39m\u001b[38;5;241m.\u001b[39m_forward_pre_hooks\n\u001b[0;32m   1745\u001b[0m         \u001b[38;5;129;01mor\u001b[39;00m _global_backward_pre_hooks \u001b[38;5;129;01mor\u001b[39;00m _global_backward_hooks\n\u001b[0;32m   1746\u001b[0m         \u001b[38;5;129;01mor\u001b[39;00m _global_forward_hooks \u001b[38;5;129;01mor\u001b[39;00m _global_forward_pre_hooks):\n\u001b[1;32m-> 1747\u001b[0m     \u001b[38;5;28;01mreturn\u001b[39;00m \u001b[43mforward_call\u001b[49m\u001b[43m(\u001b[49m\u001b[38;5;241;43m*\u001b[39;49m\u001b[43margs\u001b[49m\u001b[43m,\u001b[49m\u001b[43m \u001b[49m\u001b[38;5;241;43m*\u001b[39;49m\u001b[38;5;241;43m*\u001b[39;49m\u001b[43mkwargs\u001b[49m\u001b[43m)\u001b[49m\n\u001b[0;32m   1749\u001b[0m result \u001b[38;5;241m=\u001b[39m \u001b[38;5;28;01mNone\u001b[39;00m\n\u001b[0;32m   1750\u001b[0m called_always_called_hooks \u001b[38;5;241m=\u001b[39m \u001b[38;5;28mset\u001b[39m()\n",
            "File \u001b[1;32mc:\\Users\\ASUS\\Desktop\\LLM_FINAL\\legal-summarization\\venv\\Lib\\site-packages\\transformers\\models\\led\\modeling_led.py:2416\u001b[0m, in \u001b[0;36mLEDForConditionalGeneration.forward\u001b[1;34m(self, input_ids, attention_mask, decoder_input_ids, decoder_attention_mask, head_mask, decoder_head_mask, cross_attn_head_mask, encoder_outputs, global_attention_mask, past_key_values, inputs_embeds, decoder_inputs_embeds, labels, use_cache, output_attentions, output_hidden_states, return_dict)\u001b[0m\n\u001b[0;32m   2394\u001b[0m         decoder_input_ids \u001b[38;5;241m=\u001b[39m shift_tokens_right(\n\u001b[0;32m   2395\u001b[0m             labels, \u001b[38;5;28mself\u001b[39m\u001b[38;5;241m.\u001b[39mconfig\u001b[38;5;241m.\u001b[39mpad_token_id, \u001b[38;5;28mself\u001b[39m\u001b[38;5;241m.\u001b[39mconfig\u001b[38;5;241m.\u001b[39mdecoder_start_token_id\n\u001b[0;32m   2396\u001b[0m         )\n\u001b[0;32m   2398\u001b[0m outputs \u001b[38;5;241m=\u001b[39m \u001b[38;5;28mself\u001b[39m\u001b[38;5;241m.\u001b[39mled(\n\u001b[0;32m   2399\u001b[0m     input_ids,\n\u001b[0;32m   2400\u001b[0m     attention_mask\u001b[38;5;241m=\u001b[39mattention_mask,\n\u001b[1;32m   (...)\u001b[0m\n\u001b[0;32m   2414\u001b[0m     return_dict\u001b[38;5;241m=\u001b[39mreturn_dict,\n\u001b[0;32m   2415\u001b[0m )\n\u001b[1;32m-> 2416\u001b[0m lm_logits \u001b[38;5;241m=\u001b[39m \u001b[38;5;28;43mself\u001b[39;49m\u001b[38;5;241;43m.\u001b[39;49m\u001b[43mlm_head\u001b[49m\u001b[43m(\u001b[49m\u001b[43moutputs\u001b[49m\u001b[43m[\u001b[49m\u001b[38;5;241;43m0\u001b[39;49m\u001b[43m]\u001b[49m\u001b[43m)\u001b[49m \u001b[38;5;241m+\u001b[39m \u001b[38;5;28mself\u001b[39m\u001b[38;5;241m.\u001b[39mfinal_logits_bias\n\u001b[0;32m   2418\u001b[0m masked_lm_loss \u001b[38;5;241m=\u001b[39m \u001b[38;5;28;01mNone\u001b[39;00m\n\u001b[0;32m   2419\u001b[0m \u001b[38;5;28;01mif\u001b[39;00m labels \u001b[38;5;129;01mis\u001b[39;00m \u001b[38;5;129;01mnot\u001b[39;00m \u001b[38;5;28;01mNone\u001b[39;00m:\n",
            "File \u001b[1;32mc:\\Users\\ASUS\\Desktop\\LLM_FINAL\\legal-summarization\\venv\\Lib\\site-packages\\torch\\nn\\modules\\module.py:1736\u001b[0m, in \u001b[0;36mModule._wrapped_call_impl\u001b[1;34m(self, *args, **kwargs)\u001b[0m\n\u001b[0;32m   1734\u001b[0m     \u001b[38;5;28;01mreturn\u001b[39;00m \u001b[38;5;28mself\u001b[39m\u001b[38;5;241m.\u001b[39m_compiled_call_impl(\u001b[38;5;241m*\u001b[39margs, \u001b[38;5;241m*\u001b[39m\u001b[38;5;241m*\u001b[39mkwargs)  \u001b[38;5;66;03m# type: ignore[misc]\u001b[39;00m\n\u001b[0;32m   1735\u001b[0m \u001b[38;5;28;01melse\u001b[39;00m:\n\u001b[1;32m-> 1736\u001b[0m     \u001b[38;5;28;01mreturn\u001b[39;00m \u001b[38;5;28;43mself\u001b[39;49m\u001b[38;5;241;43m.\u001b[39;49m\u001b[43m_call_impl\u001b[49m\u001b[43m(\u001b[49m\u001b[38;5;241;43m*\u001b[39;49m\u001b[43margs\u001b[49m\u001b[43m,\u001b[49m\u001b[43m \u001b[49m\u001b[38;5;241;43m*\u001b[39;49m\u001b[38;5;241;43m*\u001b[39;49m\u001b[43mkwargs\u001b[49m\u001b[43m)\u001b[49m\n",
            "File \u001b[1;32mc:\\Users\\ASUS\\Desktop\\LLM_FINAL\\legal-summarization\\venv\\Lib\\site-packages\\torch\\nn\\modules\\module.py:1747\u001b[0m, in \u001b[0;36mModule._call_impl\u001b[1;34m(self, *args, **kwargs)\u001b[0m\n\u001b[0;32m   1742\u001b[0m \u001b[38;5;66;03m# If we don't have any hooks, we want to skip the rest of the logic in\u001b[39;00m\n\u001b[0;32m   1743\u001b[0m \u001b[38;5;66;03m# this function, and just call forward.\u001b[39;00m\n\u001b[0;32m   1744\u001b[0m \u001b[38;5;28;01mif\u001b[39;00m \u001b[38;5;129;01mnot\u001b[39;00m (\u001b[38;5;28mself\u001b[39m\u001b[38;5;241m.\u001b[39m_backward_hooks \u001b[38;5;129;01mor\u001b[39;00m \u001b[38;5;28mself\u001b[39m\u001b[38;5;241m.\u001b[39m_backward_pre_hooks \u001b[38;5;129;01mor\u001b[39;00m \u001b[38;5;28mself\u001b[39m\u001b[38;5;241m.\u001b[39m_forward_hooks \u001b[38;5;129;01mor\u001b[39;00m \u001b[38;5;28mself\u001b[39m\u001b[38;5;241m.\u001b[39m_forward_pre_hooks\n\u001b[0;32m   1745\u001b[0m         \u001b[38;5;129;01mor\u001b[39;00m _global_backward_pre_hooks \u001b[38;5;129;01mor\u001b[39;00m _global_backward_hooks\n\u001b[0;32m   1746\u001b[0m         \u001b[38;5;129;01mor\u001b[39;00m _global_forward_hooks \u001b[38;5;129;01mor\u001b[39;00m _global_forward_pre_hooks):\n\u001b[1;32m-> 1747\u001b[0m     \u001b[38;5;28;01mreturn\u001b[39;00m \u001b[43mforward_call\u001b[49m\u001b[43m(\u001b[49m\u001b[38;5;241;43m*\u001b[39;49m\u001b[43margs\u001b[49m\u001b[43m,\u001b[49m\u001b[43m \u001b[49m\u001b[38;5;241;43m*\u001b[39;49m\u001b[38;5;241;43m*\u001b[39;49m\u001b[43mkwargs\u001b[49m\u001b[43m)\u001b[49m\n\u001b[0;32m   1749\u001b[0m result \u001b[38;5;241m=\u001b[39m \u001b[38;5;28;01mNone\u001b[39;00m\n\u001b[0;32m   1750\u001b[0m called_always_called_hooks \u001b[38;5;241m=\u001b[39m \u001b[38;5;28mset\u001b[39m()\n",
            "File \u001b[1;32mc:\\Users\\ASUS\\Desktop\\LLM_FINAL\\legal-summarization\\venv\\Lib\\site-packages\\torch\\nn\\modules\\linear.py:125\u001b[0m, in \u001b[0;36mLinear.forward\u001b[1;34m(self, input)\u001b[0m\n\u001b[0;32m    124\u001b[0m \u001b[38;5;28;01mdef\u001b[39;00m \u001b[38;5;21mforward\u001b[39m(\u001b[38;5;28mself\u001b[39m, \u001b[38;5;28minput\u001b[39m: Tensor) \u001b[38;5;241m-\u001b[39m\u001b[38;5;241m>\u001b[39m Tensor:\n\u001b[1;32m--> 125\u001b[0m     \u001b[38;5;28;01mreturn\u001b[39;00m \u001b[43mF\u001b[49m\u001b[38;5;241;43m.\u001b[39;49m\u001b[43mlinear\u001b[49m\u001b[43m(\u001b[49m\u001b[38;5;28;43minput\u001b[39;49m\u001b[43m,\u001b[49m\u001b[43m \u001b[49m\u001b[38;5;28;43mself\u001b[39;49m\u001b[38;5;241;43m.\u001b[39;49m\u001b[43mweight\u001b[49m\u001b[43m,\u001b[49m\u001b[43m \u001b[49m\u001b[38;5;28;43mself\u001b[39;49m\u001b[38;5;241;43m.\u001b[39;49m\u001b[43mbias\u001b[49m\u001b[43m)\u001b[49m\n",
            "\u001b[1;31mKeyboardInterrupt\u001b[0m: "
          ]
        }
      ],
      "source": [
        "SystemSummary = summarize(model_led, tokenizer_led, CasesText)"
      ]
    },
    {
      "cell_type": "code",
      "execution_count": null,
      "metadata": {
        "id": "r1dAE_SOw4yk"
      },
      "outputs": [],
      "source": [
        "SystemSummaryFinal = []\n",
        "\n",
        "for i in SystemSummary:\n",
        "  SystemSummaryFinal.append((i[0]))"
      ]
    },
    {
      "cell_type": "code",
      "execution_count": null,
      "metadata": {
        "id": "rC0COHsCw4wI"
      },
      "outputs": [],
      "source": [
        "Summaries = pd.DataFrame(list(zip(GoldSummary, SystemSummaryFinal)), columns =['GoldSummary', 'SystemSummary'])"
      ]
    },
    {
      "cell_type": "markdown",
      "metadata": {
        "id": "zdsnhwP-StWJ"
      },
      "source": [
        "We have inference on test datset in batches due to the time limit on google colab"
      ]
    },
    {
      "cell_type": "code",
      "execution_count": null,
      "metadata": {
        "id": "16wss4qoSDM_"
      },
      "outputs": [],
      "source": [
        "dir_path = \"/content/drive/MyDrive/Working | Project/ILC/data/\""
      ]
    },
    {
      "cell_type": "code",
      "execution_count": null,
      "metadata": {
        "id": "O_xqB-iyTG01"
      },
      "outputs": [],
      "source": [
        "df1 = pd.read_csv(dir_path + \"Summaries1.csv\")\n",
        "df2 = pd.read_csv(dir_path + \"Summaries2.csv\")\n",
        "df3 = pd.read_csv(dir_path + \"Summaries3.csv\")\n",
        "df4 = pd.read_csv(dir_path + \"Summaries4.csv\")"
      ]
    },
    {
      "cell_type": "code",
      "execution_count": null,
      "metadata": {
        "id": "i9y0lBRITGnx"
      },
      "outputs": [],
      "source": [
        "DF = pd.concat([df1, df2, df3, df4])\n",
        "DF.reset_index(inplace=True, drop=True)"
      ]
    },
    {
      "cell_type": "code",
      "execution_count": null,
      "metadata": {
        "colab": {
          "base_uri": "https://localhost:8080/",
          "height": 424
        },
        "id": "tDbXOCLLTGk7",
        "outputId": "09fc3060-2fbe-47a6-c253-7b3861633304"
      },
      "outputs": [
        {
          "data": {
            "text/html": [
              "\n",
              "  <div id=\"df-ee4d3c6f-dff0-4b92-945b-b27ac1b370ca\">\n",
              "    <div class=\"colab-df-container\">\n",
              "      <div>\n",
              "<style scoped>\n",
              "    .dataframe tbody tr th:only-of-type {\n",
              "        vertical-align: middle;\n",
              "    }\n",
              "\n",
              "    .dataframe tbody tr th {\n",
              "        vertical-align: top;\n",
              "    }\n",
              "\n",
              "    .dataframe thead th {\n",
              "        text-align: right;\n",
              "    }\n",
              "</style>\n",
              "<table border=\"1\" class=\"dataframe\">\n",
              "  <thead>\n",
              "    <tr style=\"text-align: right;\">\n",
              "      <th></th>\n",
              "      <th>GoldSummary</th>\n",
              "      <th>SystemSummary</th>\n",
              "    </tr>\n",
              "  </thead>\n",
              "  <tbody>\n",
              "    <tr>\n",
              "      <th>0</th>\n",
              "      <td>Section 86(1)(f) vests a statutory jurisdictio...</td>\n",
              "      <td>In the case of Gujarat Urja Vikas Nigam Limite...</td>\n",
              "    </tr>\n",
              "    <tr>\n",
              "      <th>1</th>\n",
              "      <td>The petitioner apprehended arrest under Sectio...</td>\n",
              "      <td>The case was taken up out of turn on the basis...</td>\n",
              "    </tr>\n",
              "    <tr>\n",
              "      <th>2</th>\n",
              "      <td>The petitioner was arrested under Sections 344...</td>\n",
              "      <td>The petitioner is running Dance Party from man...</td>\n",
              "    </tr>\n",
              "    <tr>\n",
              "      <th>3</th>\n",
              "      <td>In matters concerning administrative appointme...</td>\n",
              "      <td>The petitioners were appointed as Inspectors i...</td>\n",
              "    </tr>\n",
              "    <tr>\n",
              "      <th>4</th>\n",
              "      <td>The facts and information of the suspected off...</td>\n",
              "      <td>The FIR was registered on the basis of a repor...</td>\n",
              "    </tr>\n",
              "    <tr>\n",
              "      <th>...</th>\n",
              "      <td>...</td>\n",
              "      <td>...</td>\n",
              "    </tr>\n",
              "    <tr>\n",
              "      <th>1010</th>\n",
              "      <td>In the present case, an appeal is preferred un...</td>\n",
              "      <td>The court observed that the court has not inve...</td>\n",
              "    </tr>\n",
              "    <tr>\n",
              "      <th>1011</th>\n",
              "      <td>Re-evaluation of answer sheets is not permissi...</td>\n",
              "      <td>“If an error is committed by the examination a...</td>\n",
              "    </tr>\n",
              "    <tr>\n",
              "      <th>1012</th>\n",
              "      <td>The presence of an alternate land that can be ...</td>\n",
              "      <td>The Landlord has a registered Society under th...</td>\n",
              "    </tr>\n",
              "    <tr>\n",
              "      <th>1013</th>\n",
              "      <td>Bail may be granted to an individual who is ac...</td>\n",
              "      <td>The applicant is arrested on 18th November, 20...</td>\n",
              "    </tr>\n",
              "    <tr>\n",
              "      <th>1014</th>\n",
              "      <td>If no notice or opportunity of pre-decisional ...</td>\n",
              "      <td>The court observed that the respondents are en...</td>\n",
              "    </tr>\n",
              "  </tbody>\n",
              "</table>\n",
              "<p>1015 rows × 2 columns</p>\n",
              "</div>\n",
              "      <button class=\"colab-df-convert\" onclick=\"convertToInteractive('df-ee4d3c6f-dff0-4b92-945b-b27ac1b370ca')\"\n",
              "              title=\"Convert this dataframe to an interactive table.\"\n",
              "              style=\"display:none;\">\n",
              "        \n",
              "  <svg xmlns=\"http://www.w3.org/2000/svg\" height=\"24px\"viewBox=\"0 0 24 24\"\n",
              "       width=\"24px\">\n",
              "    <path d=\"M0 0h24v24H0V0z\" fill=\"none\"/>\n",
              "    <path d=\"M18.56 5.44l.94 2.06.94-2.06 2.06-.94-2.06-.94-.94-2.06-.94 2.06-2.06.94zm-11 1L8.5 8.5l.94-2.06 2.06-.94-2.06-.94L8.5 2.5l-.94 2.06-2.06.94zm10 10l.94 2.06.94-2.06 2.06-.94-2.06-.94-.94-2.06-.94 2.06-2.06.94z\"/><path d=\"M17.41 7.96l-1.37-1.37c-.4-.4-.92-.59-1.43-.59-.52 0-1.04.2-1.43.59L10.3 9.45l-7.72 7.72c-.78.78-.78 2.05 0 2.83L4 21.41c.39.39.9.59 1.41.59.51 0 1.02-.2 1.41-.59l7.78-7.78 2.81-2.81c.8-.78.8-2.07 0-2.86zM5.41 20L4 18.59l7.72-7.72 1.47 1.35L5.41 20z\"/>\n",
              "  </svg>\n",
              "      </button>\n",
              "      \n",
              "  <style>\n",
              "    .colab-df-container {\n",
              "      display:flex;\n",
              "      flex-wrap:wrap;\n",
              "      gap: 12px;\n",
              "    }\n",
              "\n",
              "    .colab-df-convert {\n",
              "      background-color: #E8F0FE;\n",
              "      border: none;\n",
              "      border-radius: 50%;\n",
              "      cursor: pointer;\n",
              "      display: none;\n",
              "      fill: #1967D2;\n",
              "      height: 32px;\n",
              "      padding: 0 0 0 0;\n",
              "      width: 32px;\n",
              "    }\n",
              "\n",
              "    .colab-df-convert:hover {\n",
              "      background-color: #E2EBFA;\n",
              "      box-shadow: 0px 1px 2px rgba(60, 64, 67, 0.3), 0px 1px 3px 1px rgba(60, 64, 67, 0.15);\n",
              "      fill: #174EA6;\n",
              "    }\n",
              "\n",
              "    [theme=dark] .colab-df-convert {\n",
              "      background-color: #3B4455;\n",
              "      fill: #D2E3FC;\n",
              "    }\n",
              "\n",
              "    [theme=dark] .colab-df-convert:hover {\n",
              "      background-color: #434B5C;\n",
              "      box-shadow: 0px 1px 3px 1px rgba(0, 0, 0, 0.15);\n",
              "      filter: drop-shadow(0px 1px 2px rgba(0, 0, 0, 0.3));\n",
              "      fill: #FFFFFF;\n",
              "    }\n",
              "  </style>\n",
              "\n",
              "      <script>\n",
              "        const buttonEl =\n",
              "          document.querySelector('#df-ee4d3c6f-dff0-4b92-945b-b27ac1b370ca button.colab-df-convert');\n",
              "        buttonEl.style.display =\n",
              "          google.colab.kernel.accessAllowed ? 'block' : 'none';\n",
              "\n",
              "        async function convertToInteractive(key) {\n",
              "          const element = document.querySelector('#df-ee4d3c6f-dff0-4b92-945b-b27ac1b370ca');\n",
              "          const dataTable =\n",
              "            await google.colab.kernel.invokeFunction('convertToInteractive',\n",
              "                                                     [key], {});\n",
              "          if (!dataTable) return;\n",
              "\n",
              "          const docLinkHtml = 'Like what you see? Visit the ' +\n",
              "            '<a target=\"_blank\" href=https://colab.research.google.com/notebooks/data_table.ipynb>data table notebook</a>'\n",
              "            + ' to learn more about interactive tables.';\n",
              "          element.innerHTML = '';\n",
              "          dataTable['output_type'] = 'display_data';\n",
              "          await google.colab.output.renderOutput(dataTable, element);\n",
              "          const docLink = document.createElement('div');\n",
              "          docLink.innerHTML = docLinkHtml;\n",
              "          element.appendChild(docLink);\n",
              "        }\n",
              "      </script>\n",
              "    </div>\n",
              "  </div>\n",
              "  "
            ],
            "text/plain": [
              "                                            GoldSummary  \\\n",
              "0     Section 86(1)(f) vests a statutory jurisdictio...   \n",
              "1     The petitioner apprehended arrest under Sectio...   \n",
              "2     The petitioner was arrested under Sections 344...   \n",
              "3     In matters concerning administrative appointme...   \n",
              "4     The facts and information of the suspected off...   \n",
              "...                                                 ...   \n",
              "1010  In the present case, an appeal is preferred un...   \n",
              "1011  Re-evaluation of answer sheets is not permissi...   \n",
              "1012  The presence of an alternate land that can be ...   \n",
              "1013  Bail may be granted to an individual who is ac...   \n",
              "1014  If no notice or opportunity of pre-decisional ...   \n",
              "\n",
              "                                          SystemSummary  \n",
              "0     In the case of Gujarat Urja Vikas Nigam Limite...  \n",
              "1     The case was taken up out of turn on the basis...  \n",
              "2     The petitioner is running Dance Party from man...  \n",
              "3     The petitioners were appointed as Inspectors i...  \n",
              "4     The FIR was registered on the basis of a repor...  \n",
              "...                                                 ...  \n",
              "1010  The court observed that the court has not inve...  \n",
              "1011  “If an error is committed by the examination a...  \n",
              "1012  The Landlord has a registered Society under th...  \n",
              "1013  The applicant is arrested on 18th November, 20...  \n",
              "1014  The court observed that the respondents are en...  \n",
              "\n",
              "[1015 rows x 2 columns]"
            ]
          },
          "execution_count": 9,
          "metadata": {},
          "output_type": "execute_result"
        }
      ],
      "source": [
        "DF"
      ]
    },
    {
      "cell_type": "code",
      "execution_count": null,
      "metadata": {
        "id": "KQM6CsnrBaS-"
      },
      "outputs": [],
      "source": [
        "score = rouge.get_scores(DF['SystemSummary'], DF['GoldSummary'], avg=True)"
      ]
    },
    {
      "cell_type": "code",
      "execution_count": null,
      "metadata": {
        "id": "oDLIJOTqBaQR"
      },
      "outputs": [],
      "source": [
        "LEDRouge = pd.DataFrame(score).set_index([['recaall','precision','f-measure']])"
      ]
    },
    {
      "cell_type": "code",
      "execution_count": null,
      "metadata": {
        "colab": {
          "base_uri": "https://localhost:8080/",
          "height": 143
        },
        "id": "eaiw0Y4eBaOE",
        "outputId": "277a23a0-c331-4008-bc96-8588bb96dc63"
      },
      "outputs": [
        {
          "data": {
            "text/html": [
              "\n",
              "  <div id=\"df-39f23fad-f3ba-4cea-b478-b06da6b04d7b\">\n",
              "    <div class=\"colab-df-container\">\n",
              "      <div>\n",
              "<style scoped>\n",
              "    .dataframe tbody tr th:only-of-type {\n",
              "        vertical-align: middle;\n",
              "    }\n",
              "\n",
              "    .dataframe tbody tr th {\n",
              "        vertical-align: top;\n",
              "    }\n",
              "\n",
              "    .dataframe thead th {\n",
              "        text-align: right;\n",
              "    }\n",
              "</style>\n",
              "<table border=\"1\" class=\"dataframe\">\n",
              "  <thead>\n",
              "    <tr style=\"text-align: right;\">\n",
              "      <th></th>\n",
              "      <th>rouge-1</th>\n",
              "      <th>rouge-2</th>\n",
              "      <th>rouge-l</th>\n",
              "    </tr>\n",
              "  </thead>\n",
              "  <tbody>\n",
              "    <tr>\n",
              "      <th>recaall</th>\n",
              "      <td>40.039816</td>\n",
              "      <td>22.343800</td>\n",
              "      <td>37.250347</td>\n",
              "    </tr>\n",
              "    <tr>\n",
              "      <th>precision</th>\n",
              "      <td>46.313938</td>\n",
              "      <td>25.252847</td>\n",
              "      <td>43.097858</td>\n",
              "    </tr>\n",
              "    <tr>\n",
              "      <th>f-measure</th>\n",
              "      <td>42.240362</td>\n",
              "      <td>23.187177</td>\n",
              "      <td>39.304978</td>\n",
              "    </tr>\n",
              "  </tbody>\n",
              "</table>\n",
              "</div>\n",
              "      <button class=\"colab-df-convert\" onclick=\"convertToInteractive('df-39f23fad-f3ba-4cea-b478-b06da6b04d7b')\"\n",
              "              title=\"Convert this dataframe to an interactive table.\"\n",
              "              style=\"display:none;\">\n",
              "        \n",
              "  <svg xmlns=\"http://www.w3.org/2000/svg\" height=\"24px\"viewBox=\"0 0 24 24\"\n",
              "       width=\"24px\">\n",
              "    <path d=\"M0 0h24v24H0V0z\" fill=\"none\"/>\n",
              "    <path d=\"M18.56 5.44l.94 2.06.94-2.06 2.06-.94-2.06-.94-.94-2.06-.94 2.06-2.06.94zm-11 1L8.5 8.5l.94-2.06 2.06-.94-2.06-.94L8.5 2.5l-.94 2.06-2.06.94zm10 10l.94 2.06.94-2.06 2.06-.94-2.06-.94-.94-2.06-.94 2.06-2.06.94z\"/><path d=\"M17.41 7.96l-1.37-1.37c-.4-.4-.92-.59-1.43-.59-.52 0-1.04.2-1.43.59L10.3 9.45l-7.72 7.72c-.78.78-.78 2.05 0 2.83L4 21.41c.39.39.9.59 1.41.59.51 0 1.02-.2 1.41-.59l7.78-7.78 2.81-2.81c.8-.78.8-2.07 0-2.86zM5.41 20L4 18.59l7.72-7.72 1.47 1.35L5.41 20z\"/>\n",
              "  </svg>\n",
              "      </button>\n",
              "      \n",
              "  <style>\n",
              "    .colab-df-container {\n",
              "      display:flex;\n",
              "      flex-wrap:wrap;\n",
              "      gap: 12px;\n",
              "    }\n",
              "\n",
              "    .colab-df-convert {\n",
              "      background-color: #E8F0FE;\n",
              "      border: none;\n",
              "      border-radius: 50%;\n",
              "      cursor: pointer;\n",
              "      display: none;\n",
              "      fill: #1967D2;\n",
              "      height: 32px;\n",
              "      padding: 0 0 0 0;\n",
              "      width: 32px;\n",
              "    }\n",
              "\n",
              "    .colab-df-convert:hover {\n",
              "      background-color: #E2EBFA;\n",
              "      box-shadow: 0px 1px 2px rgba(60, 64, 67, 0.3), 0px 1px 3px 1px rgba(60, 64, 67, 0.15);\n",
              "      fill: #174EA6;\n",
              "    }\n",
              "\n",
              "    [theme=dark] .colab-df-convert {\n",
              "      background-color: #3B4455;\n",
              "      fill: #D2E3FC;\n",
              "    }\n",
              "\n",
              "    [theme=dark] .colab-df-convert:hover {\n",
              "      background-color: #434B5C;\n",
              "      box-shadow: 0px 1px 3px 1px rgba(0, 0, 0, 0.15);\n",
              "      filter: drop-shadow(0px 1px 2px rgba(0, 0, 0, 0.3));\n",
              "      fill: #FFFFFF;\n",
              "    }\n",
              "  </style>\n",
              "\n",
              "      <script>\n",
              "        const buttonEl =\n",
              "          document.querySelector('#df-39f23fad-f3ba-4cea-b478-b06da6b04d7b button.colab-df-convert');\n",
              "        buttonEl.style.display =\n",
              "          google.colab.kernel.accessAllowed ? 'block' : 'none';\n",
              "\n",
              "        async function convertToInteractive(key) {\n",
              "          const element = document.querySelector('#df-39f23fad-f3ba-4cea-b478-b06da6b04d7b');\n",
              "          const dataTable =\n",
              "            await google.colab.kernel.invokeFunction('convertToInteractive',\n",
              "                                                     [key], {});\n",
              "          if (!dataTable) return;\n",
              "\n",
              "          const docLinkHtml = 'Like what you see? Visit the ' +\n",
              "            '<a target=\"_blank\" href=https://colab.research.google.com/notebooks/data_table.ipynb>data table notebook</a>'\n",
              "            + ' to learn more about interactive tables.';\n",
              "          element.innerHTML = '';\n",
              "          dataTable['output_type'] = 'display_data';\n",
              "          await google.colab.output.renderOutput(dataTable, element);\n",
              "          const docLink = document.createElement('div');\n",
              "          docLink.innerHTML = docLinkHtml;\n",
              "          element.appendChild(docLink);\n",
              "        }\n",
              "      </script>\n",
              "    </div>\n",
              "  </div>\n",
              "  "
            ],
            "text/plain": [
              "             rouge-1    rouge-2    rouge-l\n",
              "recaall    40.039816  22.343800  37.250347\n",
              "precision  46.313938  25.252847  43.097858\n",
              "f-measure  42.240362  23.187177  39.304978"
            ]
          },
          "execution_count": 15,
          "metadata": {},
          "output_type": "execute_result"
        }
      ],
      "source": [
        "LEDRouge*100"
      ]
    },
    {
      "cell_type": "code",
      "execution_count": null,
      "metadata": {
        "id": "qPJ1K5BgBZzq"
      },
      "outputs": [],
      "source": [
        "DF.to_csv(dir_path + \"LEDPrediction.csv\", index=False, header=True)"
      ]
    },
    {
      "cell_type": "code",
      "execution_count": null,
      "metadata": {
        "id": "G_BVYmG_EBAi"
      },
      "outputs": [],
      "source": [
        "LEDRouge.to_csv(\"/content/drive/MyDrive/Working | Project/ILC/score/LEDRouge.csv\", header=True)"
      ]
    }
  ],
  "metadata": {
    "accelerator": "GPU",
    "colab": {
      "name": "LEDbase-inference-ilc-testset",
      "provenance": []
    },
    "kernelspec": {
      "display_name": "venv",
      "language": "python",
      "name": "python3"
    },
    "language_info": {
      "codemirror_mode": {
        "name": "ipython",
        "version": 3
      },
      "file_extension": ".py",
      "mimetype": "text/x-python",
      "name": "python",
      "nbconvert_exporter": "python",
      "pygments_lexer": "ipython3",
      "version": "3.12.5"
    }
  },
  "nbformat": 4,
  "nbformat_minor": 0
}
